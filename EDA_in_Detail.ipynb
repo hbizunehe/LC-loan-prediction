{
  "cells": [
    {
      "cell_type": "markdown",
      "metadata": {
        "id": "ove7Qe9d3WRu"
      },
      "source": [
        "- W207 - Fall 2021 Applied Machine Learning\n",
        "- Title : Robo-Advisor For peer-to-peer lending\n",
        "- Professor: John Santerre\n",
        "- Team Name - Z3\n",
        "- Sushant(sushant.joshi@ischool.berkeley.edu), Kris(krislee@ischool.berkeley.edu) , Haile(haile@ischool.berkeley.edu)"
      ]
    },
    {
      "cell_type": "markdown",
      "metadata": {
        "id": "39ucdN8RHrbV"
      },
      "source": [
        "# Introduction\n",
        "In February 2006, Prosper company started helping people borrow thousands of dollars online from strangers using a peer-to-peer lending system. Individual investors enjoyed the returns (historical return average 5.6%) from the lending, and borrowers enjoyed similar cost advantages compared with rates at a bank or credit union. Prosper alone facilitated \\$1.5 billion in Borrower Loan originations during 2020 and \\$18.2 billion in Borrower Loan originations since it first launched in 2006.\n",
        " \n",
        "There are many loans on the peer-to-peer lending platform that inventors need to pick to put their money on, which is time-consuming and sometimes unclear which loan to pick. To address this issue, we start building a roboadviser that automatically evaluates loans and advises investors on which loan to put their money on.\n",
        "\n",
        "To achieve that, we build a model from historical data and use it in roboadviser application to select high-quality loans to save investors time and maximize returns."
      ]
    },
    {
      "cell_type": "code",
      "execution_count": 2,
      "metadata": {
        "colab": {
          "base_uri": "https://localhost:8080/"
        },
        "id": "j_XWA1U4Hqq0",
        "outputId": "c919a8b1-bbdc-495c-f285-0bc7c17fdcd6"
      },
      "outputs": [
        {
          "output_type": "stream",
          "name": "stdout",
          "text": [
            "Mounted at /content/drive\n"
          ]
        }
      ],
      "source": [
        "import pandas as pd\n",
        "import numpy as np\n",
        "import datetime\n",
        "import matplotlib.pyplot as plt\n",
        "import collections\n",
        "# Learning packages\n",
        "from sklearn.linear_model import LogisticRegression\n",
        "from sklearn.naive_bayes import GaussianNB\n",
        "from sklearn.mixture import GaussianMixture\n",
        "from xgboost import XGBClassifier\n",
        "from sklearn.utils import resample\n",
        "from sklearn.metrics import precision_recall_curve\n",
        "from sklearn import metrics\n",
        "from sklearn.preprocessing import StandardScaler, MinMaxScaler\n",
        "from sklearn.feature_extraction.text import TfidfVectorizer\n",
        "# Custom python modules used for feature engineering\n",
        "from encoders import Encoders\n",
        "from replacenan import ReplaceNaN\n",
        "from imputer import Imputer\n",
        "from util import *\n",
        "\n",
        "import warnings\n",
        "warnings.filterwarnings('ignore')\n",
        "\n",
        "#TODO\n",
        "from google.colab import drive\n",
        "drive._mount('/content/drive')\n",
        "\n",
        "\n",
        "# This packages are needed only if you want to access TitleParser (title_parser.py) functionality \n",
        "#!pip install string-grouper\n",
        "#!pip install wordsegment\n",
        "#!pip install pyspellchecker\n",
        "#from title_parser import TitleParser"
      ]
    },
    {
      "cell_type": "markdown",
      "metadata": {
        "id": "AIBMTV5aX-QQ"
      },
      "source": [
        "# Initial Data\n",
        "\n",
        "We used LendingClub LLC, a peer-to-peer lending company headquartered in San Francisco, historical loan data which is hosted on [Kaggle](https://www.kaggle.com/wordsforthewise/lending-club). The historical data spans between June 2007 and December 2018.\n",
        "\n",
        "Since the loan status outcome is also determind by the economic condition, we web scrap seasonally adjusted unemployment data from [U.S. Bureau of Labor Statistic](https://www.bls.gov/charts/state-employment-and-unemployment/state-unemployment-rates-map.htm)"
      ]
    },
    {
      "cell_type": "code",
      "execution_count": 3,
      "metadata": {
        "id": "8es1DRALAR1d"
      },
      "outputs": [],
      "source": [
        "#TODO\n",
        "df = pd.read_csv('/content/drive/My Drive/207-final/lc_loans_2007_to_2018Q4.csv', engine='c')\n",
        "unemployment = pd.read_csv('/content/drive/My Drive/207-final/state_unemployment.csv', engine='c')\n",
        "#df = pd.read_csv('./data/imputed/lc_loans_2007_to_2018Q4.csv', engine='c', low_memory='False', warn_bad_lines=False)\n",
        "#unemployment = pd.read_csv('./data/imputed/state_unemployment.csv', engine='c')\n",
        "unemployment.set_index('Code', inplace=True)"
      ]
    },
    {
      "cell_type": "markdown",
      "metadata": {
        "id": "3m7pNFGo3WR2"
      },
      "source": [
        "# EDA"
      ]
    },
    {
      "cell_type": "markdown",
      "metadata": {
        "id": "mqXMom-13WR3"
      },
      "source": [
        "- Nubmer of Rows and Columns of Lending Club data"
      ]
    },
    {
      "cell_type": "code",
      "execution_count": 4,
      "metadata": {
        "colab": {
          "base_uri": "https://localhost:8080/"
        },
        "id": "B7QbTVgr3WR3",
        "outputId": "c90f49b9-07a6-4b65-d317-3fb4aef9895a"
      },
      "outputs": [
        {
          "output_type": "stream",
          "name": "stdout",
          "text": [
            "Number of Rows: 2260701\n",
            "Number of Columns: 151\n"
          ]
        }
      ],
      "source": [
        "# Get the number of rows and columns\n",
        "rows = len(df.axes[0])\n",
        "cols = len(df.axes[1])\n",
        "  \n",
        "# Print the number of rows and columns\n",
        "print(\"Number of Rows: \" + str(rows))\n",
        "print(\"Number of Columns: \" + str(cols))"
      ]
    },
    {
      "cell_type": "code",
      "execution_count": 5,
      "metadata": {
        "colab": {
          "base_uri": "https://localhost:8080/"
        },
        "id": "uX8TSl7l3WR5",
        "outputId": "6c22503c-6d0d-4dd3-f416-de00920dccb3"
      },
      "outputs": [
        {
          "output_type": "stream",
          "name": "stdout",
          "text": [
            "The number Numerical Columns: 113\n",
            "The number Categorical Columns: 38\n"
          ]
        }
      ],
      "source": [
        "#Categorical Vs. Numrical\n",
        "cols = df.columns\n",
        "num_cols = df._get_numeric_data().columns\n",
        "num_cols\n",
        "cat_cols= list(set(cols) - set(num_cols))\n",
        "cat_cols\n",
        "len(cat_cols)\n",
        "print(\"The number Numerical Columns: \" + str(len(num_cols)))\n",
        "print(\"The number Categorical Columns: \" + str(len(cat_cols)))"
      ]
    },
    {
      "cell_type": "code",
      "execution_count": 6,
      "metadata": {
        "colab": {
          "base_uri": "https://localhost:8080/"
        },
        "id": "45-qZTHJ3WR6",
        "outputId": "8066de69-6a8d-4162-83f5-24547fc77b7b"
      },
      "outputs": [
        {
          "output_type": "stream",
          "name": "stdout",
          "text": [
            "The number Columns having Null Value: 150\n"
          ]
        }
      ],
      "source": [
        "# Check for Nan Value \n",
        "\n",
        "nan_values = df.isna()\n",
        "nan_columns = nan_values.any()\n",
        "\n",
        "columns_with_nan = df.columns[nan_columns].tolist()\n",
        "\n",
        "print(\"The number Columns having Null Value: \" + str(len(columns_with_nan)))"
      ]
    },
    {
      "cell_type": "code",
      "execution_count": 7,
      "metadata": {
        "id": "t3VAbvo-3WR6"
      },
      "outputs": [],
      "source": [
        "# Null Value Summary \n",
        "\n",
        "df2=df.isnull().sum().reset_index()\n",
        "df2.columns=['column','null_counts']\n",
        "df2['perc']=df2['null_counts']/len(df2)*100\n",
        "df2=df2.sort_values(by='perc')"
      ]
    },
    {
      "cell_type": "code",
      "execution_count": 8,
      "metadata": {
        "colab": {
          "base_uri": "https://localhost:8080/",
          "height": 446
        },
        "id": "4J991f7P3WR7",
        "outputId": "2d9daf97-3167-4d60-cbce-e0ffaf80a6ed"
      },
      "outputs": [
        {
          "output_type": "display_data",
          "data": {
            "image/png": "[encoded data removed]",
            "text/plain": [
              "<Figure size 1440x216 with 1 Axes>"
            ]
          },
          "metadata": {
            "needs_background": "light"
          }
        }
      ],
      "source": [
        "# Visualize the null value distribution \n",
        "import numpy as np\n",
        "import pandas as pd\n",
        "from pandas import Series, DataFrame\n",
        "import matplotlib.pyplot as plt\n",
        "data=df2['perc'].tolist()\n",
        "labels=df2['column'].tolist()\n",
        "plt.figure(figsize=(20, 3))\n",
        "plt.xticks(range(len(data)), labels)\n",
        "\n",
        "plt.axhline(y=31.8, linewidth=3, color='red',label= 'Average')\n",
        "plt.legend(loc = 'upper left')\n",
        "\n",
        "plt.xlabel('Columns')\n",
        "plt.ylabel('Percentage')\n",
        "plt.title('Null Value Percentange within each Column')\n",
        "plt.bar(range(len(data)), data) \n",
        "plt.xticks(rotation=90)\n",
        "plt.show()"
      ]
    },
    {
      "cell_type": "markdown",
      "metadata": {
        "id": "uRNHw7_Y3WR7"
      },
      "source": [
        "# Unemployment data"
      ]
    },
    {
      "cell_type": "code",
      "execution_count": 9,
      "metadata": {
        "id": "h8VU4cZz3WR7"
      },
      "outputs": [],
      "source": [
        "unemployment=unemployment.dropna()"
      ]
    },
    {
      "cell_type": "code",
      "execution_count": 10,
      "metadata": {
        "colab": {
          "base_uri": "https://localhost:8080/"
        },
        "id": "k-y5WFmf3WR8",
        "outputId": "8b96cea2-cfac-4377-c30d-ecb600277999"
      },
      "outputs": [
        {
          "output_type": "stream",
          "name": "stdout",
          "text": [
            "Number of Rows: 52\n",
            "Number of Columns: 173\n"
          ]
        }
      ],
      "source": [
        "# Get the number of rows and columns\n",
        "rows = len(unemployment.axes[0])\n",
        "cols = len(unemployment.axes[1])\n",
        "  \n",
        "# Print the number of rows and columns\n",
        "print(\"Number of Rows: \" + str(rows))\n",
        "print(\"Number of Columns: \" + str(cols))"
      ]
    },
    {
      "cell_type": "code",
      "execution_count": 11,
      "metadata": {
        "colab": {
          "base_uri": "https://localhost:8080/"
        },
        "id": "rJgalGlp3WR8",
        "outputId": "45031725-516a-4754-ab95-4561276933b2"
      },
      "outputs": [
        {
          "output_type": "stream",
          "name": "stdout",
          "text": [
            "The number Numerical Columns: 170\n",
            "The number Categorical Columns: 3\n"
          ]
        }
      ],
      "source": [
        "#Categorical Vs. Numrical\n",
        "cols = unemployment.columns\n",
        "num_cols = unemployment._get_numeric_data().columns\n",
        "num_cols\n",
        "cat_cols= list(set(cols) - set(num_cols))\n",
        "cat_cols\n",
        "len(cat_cols)\n",
        "print(\"The number Numerical Columns: \" + str(len(num_cols)))\n",
        "print(\"The number Categorical Columns: \" + str(len(cat_cols)))"
      ]
    },
    {
      "cell_type": "code",
      "execution_count": 12,
      "metadata": {
        "colab": {
          "base_uri": "https://localhost:8080/"
        },
        "id": "GwSRax_N3WR9",
        "outputId": "fa0c493d-e8e7-4dd9-93bd-9d44a17748c0"
      },
      "outputs": [
        {
          "output_type": "stream",
          "name": "stdout",
          "text": [
            "The number Columns having Null Value: 0\n"
          ]
        }
      ],
      "source": [
        "# Check for Nan Value \n",
        "\n",
        "nan_values = unemployment.isna()\n",
        "nan_columns = nan_values.any()\n",
        "\n",
        "columns_with_nan = unemployment.columns[nan_columns].tolist()\n",
        "\n",
        "print(\"The number Columns having Null Value: \" + str(len(columns_with_nan)))"
      ]
    },
    {
      "cell_type": "code",
      "execution_count": 13,
      "metadata": {
        "id": "SGd8p_un3WR9"
      },
      "outputs": [],
      "source": [
        "unemployment2=unemployment['Sep-21'].reset_index()"
      ]
    },
    {
      "cell_type": "code",
      "execution_count": 14,
      "metadata": {
        "id": "2tVFGDVq3WR9"
      },
      "outputs": [],
      "source": [
        "unemployment2.columns=['addr_state','unemployment_status']"
      ]
    },
    {
      "cell_type": "code",
      "execution_count": 15,
      "metadata": {
        "colab": {
          "base_uri": "https://localhost:8080/",
          "height": 542
        },
        "id": "5PPlE44_3WR-",
        "outputId": "33b74471-9e18-4ad2-c93f-f9e1499d687a"
      },
      "outputs": [
        {
          "output_type": "display_data",
          "data": {
            "text/html": [
              "<html>\n",
              "<head><meta charset=\"utf-8\" /></head>\n",
              "<body>\n",
              "    <div>\n",
              "            <script src=\"https://cdnjs.cloudflare.com/ajax/libs/mathjax/2.7.5/MathJax.js?config=TeX-AMS-MML_SVG\"></script><script type=\"text/javascript\">if (window.MathJax) {MathJax.Hub.Config({SVG: {font: \"STIX-Web\"}});}</script>\n",
              "                <script type=\"text/javascript\">window.PlotlyConfig = {MathJaxConfig: 'local'};</script>\n",
              "        <script src=\"https://cdn.plot.ly/plotly-latest.min.js\"></script>    \n",
              "            <div id=\"3c264923-f3d8-4d4c-b289-5aff3a5fd79a\" class=\"plotly-graph-div\" style=\"height:525px; width:100%;\"></div>\n",
              "            <script type=\"text/javascript\">\n",
              "                \n",
              "                    window.PLOTLYENV=window.PLOTLYENV || {};\n",
              "                    \n",
              "                if (document.getElementById(\"3c264923-f3d8-4d4c-b289-5aff3a5fd79a\")) {\n",
              "                    Plotly.newPlot(\n",
              "                        '3c264923-f3d8-4d4c-b289-5aff3a5fd79a',\n",
              "                        [{\"coloraxis\": \"coloraxis\", \"geo\": \"geo\", \"hoverlabel\": {\"namelength\": 0}, \"hovertemplate\": \"addr_state=%{location}<br>unemployment_status=%{z}\", \"locationmode\": \"USA-states\", \"locations\": [\"AL\", \"AK\", \"AZ\", \"AR\", \"CA\", \"CO\", \"CT\", \"DE\", \"DC\", \"FL\", \"GA\", \"HI\", \"ID\", \"IL\", \"IN\", \"IA\", \"KS\", \"KY\", \"LA\", \"ME\", \"MD\", \"MA\", \"MI\", \"MN\", \"MS\", \"MO\", \"MT\", \"NE\", \"NV\", \"NH\", \"NJ\", \"NM\", \"NY\", \"NC\", \"ND\", \"OH\", \"OK\", \"OR\", \"PA\", \"PR\", \"RI\", \"SC\", \"SD\", \"TN\", \"TX\", \"UT\", \"VT\", \"VA\", \"WA\", \"WV\", \"WI\", \"WY\"], \"name\": \"\", \"type\": \"choropleth\", \"z\": [3.1, 6.3, 5.7, 4.0, 7.5, 5.6, 6.8, 5.3, 6.5, 4.9, 3.2, 6.6, 2.9, 6.8, 4.0, 4.0, 3.9, 4.3, 5.8, 4.8, 5.9, 5.2, 4.6, 3.7, 5.8, 3.8, 3.3, 2.0, 7.5, 2.9, 7.1, 6.9, 7.1, 4.2, 3.5, 5.4, 3.0, 4.7, 6.2, 8.3, 5.2, 4.1, 2.9, 4.4, 5.6, 2.4, 2.9, 3.8, 4.9, 4.6, 3.9, 4.5]}],\n",
              "                        {\"coloraxis\": {\"colorbar\": {\"title\": {\"text\": \"unemployment_status\"}}, \"colorscale\": [[0.0, \"#0d0887\"], [0.1111111111111111, \"#46039f\"], [0.2222222222222222, \"#7201a8\"], [0.3333333333333333, \"#9c179e\"], [0.4444444444444444, \"#bd3786\"], [0.5555555555555556, \"#d8576b\"], [0.6666666666666666, \"#ed7953\"], [0.7777777777777778, \"#fb9f3a\"], [0.8888888888888888, \"#fdca26\"], [1.0, \"#f0f921\"]]}, \"geo\": {\"center\": {}, \"domain\": {\"x\": [0.0, 1.0], \"y\": [0.0, 1.0]}, \"scope\": \"usa\"}, \"legend\": {\"tracegroupgap\": 0}, \"margin\": {\"t\": 60}, \"template\": {\"data\": {\"bar\": [{\"error_x\": {\"color\": \"#2a3f5f\"}, \"error_y\": {\"color\": \"#2a3f5f\"}, \"marker\": {\"line\": {\"color\": \"#E5ECF6\", \"width\": 0.5}}, \"type\": \"bar\"}], \"barpolar\": [{\"marker\": {\"line\": {\"color\": \"#E5ECF6\", \"width\": 0.5}}, \"type\": \"barpolar\"}], \"carpet\": [{\"aaxis\": {\"endlinecolor\": \"#2a3f5f\", \"gridcolor\": \"white\", \"linecolor\": \"white\", \"minorgridcolor\": \"white\", \"startlinecolor\": \"#2a3f5f\"}, \"baxis\": {\"endlinecolor\": \"#2a3f5f\", \"gridcolor\": \"white\", \"linecolor\": \"white\", \"minorgridcolor\": \"white\", \"startlinecolor\": \"#2a3f5f\"}, \"type\": \"carpet\"}], \"choropleth\": [{\"colorbar\": {\"outlinewidth\": 0, \"ticks\": \"\"}, \"type\": \"choropleth\"}], \"contour\": [{\"colorbar\": {\"outlinewidth\": 0, \"ticks\": \"\"}, \"colorscale\": [[0.0, \"#0d0887\"], [0.1111111111111111, \"#46039f\"], [0.2222222222222222, \"#7201a8\"], [0.3333333333333333, \"#9c179e\"], [0.4444444444444444, \"#bd3786\"], [0.5555555555555556, \"#d8576b\"], [0.6666666666666666, \"#ed7953\"], [0.7777777777777778, \"#fb9f3a\"], [0.8888888888888888, \"#fdca26\"], [1.0, \"#f0f921\"]], \"type\": \"contour\"}], \"contourcarpet\": [{\"colorbar\": {\"outlinewidth\": 0, \"ticks\": \"\"}, \"type\": \"contourcarpet\"}], \"heatmap\": [{\"colorbar\": {\"outlinewidth\": 0, \"ticks\": \"\"}, \"colorscale\": [[0.0, \"#0d0887\"], [0.1111111111111111, \"#46039f\"], [0.2222222222222222, \"#7201a8\"], [0.3333333333333333, \"#9c179e\"], [0.4444444444444444, \"#bd3786\"], [0.5555555555555556, \"#d8576b\"], [0.6666666666666666, \"#ed7953\"], [0.7777777777777778, \"#fb9f3a\"], [0.8888888888888888, \"#fdca26\"], [1.0, \"#f0f921\"]], \"type\": \"heatmap\"}], \"heatmapgl\": [{\"colorbar\": {\"outlinewidth\": 0, \"ticks\": \"\"}, \"colorscale\": [[0.0, \"#0d0887\"], [0.1111111111111111, \"#46039f\"], [0.2222222222222222, \"#7201a8\"], [0.3333333333333333, \"#9c179e\"], [0.4444444444444444, \"#bd3786\"], [0.5555555555555556, \"#d8576b\"], [0.6666666666666666, \"#ed7953\"], [0.7777777777777778, \"#fb9f3a\"], [0.8888888888888888, \"#fdca26\"], [1.0, \"#f0f921\"]], \"type\": \"heatmapgl\"}], \"histogram\": [{\"marker\": {\"colorbar\": {\"outlinewidth\": 0, \"ticks\": \"\"}}, \"type\": \"histogram\"}], \"histogram2d\": [{\"colorbar\": {\"outlinewidth\": 0, \"ticks\": \"\"}, \"colorscale\": [[0.0, \"#0d0887\"], [0.1111111111111111, \"#46039f\"], [0.2222222222222222, \"#7201a8\"], [0.3333333333333333, \"#9c179e\"], [0.4444444444444444, \"#bd3786\"], [0.5555555555555556, \"#d8576b\"], [0.6666666666666666, \"#ed7953\"], [0.7777777777777778, \"#fb9f3a\"], [0.8888888888888888, \"#fdca26\"], [1.0, \"#f0f921\"]], \"type\": \"histogram2d\"}], \"histogram2dcontour\": [{\"colorbar\": {\"outlinewidth\": 0, \"ticks\": \"\"}, \"colorscale\": [[0.0, \"#0d0887\"], [0.1111111111111111, \"#46039f\"], [0.2222222222222222, \"#7201a8\"], [0.3333333333333333, \"#9c179e\"], [0.4444444444444444, \"#bd3786\"], [0.5555555555555556, \"#d8576b\"], [0.6666666666666666, \"#ed7953\"], [0.7777777777777778, \"#fb9f3a\"], [0.8888888888888888, \"#fdca26\"], [1.0, \"#f0f921\"]], \"type\": \"histogram2dcontour\"}], \"mesh3d\": [{\"colorbar\": {\"outlinewidth\": 0, \"ticks\": \"\"}, \"type\": \"mesh3d\"}], \"parcoords\": [{\"line\": {\"colorbar\": {\"outlinewidth\": 0, \"ticks\": \"\"}}, \"type\": \"parcoords\"}], \"pie\": [{\"automargin\": true, \"type\": \"pie\"}], \"scatter\": [{\"marker\": {\"colorbar\": {\"outlinewidth\": 0, \"ticks\": \"\"}}, \"type\": \"scatter\"}], \"scatter3d\": [{\"line\": {\"colorbar\": {\"outlinewidth\": 0, \"ticks\": \"\"}}, \"marker\": {\"colorbar\": {\"outlinewidth\": 0, \"ticks\": \"\"}}, \"type\": \"scatter3d\"}], \"scattercarpet\": [{\"marker\": {\"colorbar\": {\"outlinewidth\": 0, \"ticks\": \"\"}}, \"type\": \"scattercarpet\"}], \"scattergeo\": [{\"marker\": {\"colorbar\": {\"outlinewidth\": 0, \"ticks\": \"\"}}, \"type\": \"scattergeo\"}], \"scattergl\": [{\"marker\": {\"colorbar\": {\"outlinewidth\": 0, \"ticks\": \"\"}}, \"type\": \"scattergl\"}], \"scattermapbox\": [{\"marker\": {\"colorbar\": {\"outlinewidth\": 0, \"ticks\": \"\"}}, \"type\": \"scattermapbox\"}], \"scatterpolar\": [{\"marker\": {\"colorbar\": {\"outlinewidth\": 0, \"ticks\": \"\"}}, \"type\": \"scatterpolar\"}], \"scatterpolargl\": [{\"marker\": {\"colorbar\": {\"outlinewidth\": 0, \"ticks\": \"\"}}, \"type\": \"scatterpolargl\"}], \"scatterternary\": [{\"marker\": {\"colorbar\": {\"outlinewidth\": 0, \"ticks\": \"\"}}, \"type\": \"scatterternary\"}], \"surface\": [{\"colorbar\": {\"outlinewidth\": 0, \"ticks\": \"\"}, \"colorscale\": [[0.0, \"#0d0887\"], [0.1111111111111111, \"#46039f\"], [0.2222222222222222, \"#7201a8\"], [0.3333333333333333, \"#9c179e\"], [0.4444444444444444, \"#bd3786\"], [0.5555555555555556, \"#d8576b\"], [0.6666666666666666, \"#ed7953\"], [0.7777777777777778, \"#fb9f3a\"], [0.8888888888888888, \"#fdca26\"], [1.0, \"#f0f921\"]], \"type\": \"surface\"}], \"table\": [{\"cells\": {\"fill\": {\"color\": \"#EBF0F8\"}, \"line\": {\"color\": \"white\"}}, \"header\": {\"fill\": {\"color\": \"#C8D4E3\"}, \"line\": {\"color\": \"white\"}}, \"type\": \"table\"}]}, \"layout\": {\"annotationdefaults\": {\"arrowcolor\": \"#2a3f5f\", \"arrowhead\": 0, \"arrowwidth\": 1}, \"coloraxis\": {\"colorbar\": {\"outlinewidth\": 0, \"ticks\": \"\"}}, \"colorscale\": {\"diverging\": [[0, \"#8e0152\"], [0.1, \"#c51b7d\"], [0.2, \"#de77ae\"], [0.3, \"#f1b6da\"], [0.4, \"#fde0ef\"], [0.5, \"#f7f7f7\"], [0.6, \"#e6f5d0\"], [0.7, \"#b8e186\"], [0.8, \"#7fbc41\"], [0.9, \"#4d9221\"], [1, \"#276419\"]], \"sequential\": [[0.0, \"#0d0887\"], [0.1111111111111111, \"#46039f\"], [0.2222222222222222, \"#7201a8\"], [0.3333333333333333, \"#9c179e\"], [0.4444444444444444, \"#bd3786\"], [0.5555555555555556, \"#d8576b\"], [0.6666666666666666, \"#ed7953\"], [0.7777777777777778, \"#fb9f3a\"], [0.8888888888888888, \"#fdca26\"], [1.0, \"#f0f921\"]], \"sequentialminus\": [[0.0, \"#0d0887\"], [0.1111111111111111, \"#46039f\"], [0.2222222222222222, \"#7201a8\"], [0.3333333333333333, \"#9c179e\"], [0.4444444444444444, \"#bd3786\"], [0.5555555555555556, \"#d8576b\"], [0.6666666666666666, \"#ed7953\"], [0.7777777777777778, \"#fb9f3a\"], [0.8888888888888888, \"#fdca26\"], [1.0, \"#f0f921\"]]}, \"colorway\": [\"#636efa\", \"#EF553B\", \"#00cc96\", \"#ab63fa\", \"#FFA15A\", \"#19d3f3\", \"#FF6692\", \"#B6E880\", \"#FF97FF\", \"#FECB52\"], \"font\": {\"color\": \"#2a3f5f\"}, \"geo\": {\"bgcolor\": \"white\", \"lakecolor\": \"white\", \"landcolor\": \"#E5ECF6\", \"showlakes\": true, \"showland\": true, \"subunitcolor\": \"white\"}, \"hoverlabel\": {\"align\": \"left\"}, \"hovermode\": \"closest\", \"mapbox\": {\"style\": \"light\"}, \"paper_bgcolor\": \"white\", \"plot_bgcolor\": \"#E5ECF6\", \"polar\": {\"angularaxis\": {\"gridcolor\": \"white\", \"linecolor\": \"white\", \"ticks\": \"\"}, \"bgcolor\": \"#E5ECF6\", \"radialaxis\": {\"gridcolor\": \"white\", \"linecolor\": \"white\", \"ticks\": \"\"}}, \"scene\": {\"xaxis\": {\"backgroundcolor\": \"#E5ECF6\", \"gridcolor\": \"white\", \"gridwidth\": 2, \"linecolor\": \"white\", \"showbackground\": true, \"ticks\": \"\", \"zerolinecolor\": \"white\"}, \"yaxis\": {\"backgroundcolor\": \"#E5ECF6\", \"gridcolor\": \"white\", \"gridwidth\": 2, \"linecolor\": \"white\", \"showbackground\": true, \"ticks\": \"\", \"zerolinecolor\": \"white\"}, \"zaxis\": {\"backgroundcolor\": \"#E5ECF6\", \"gridcolor\": \"white\", \"gridwidth\": 2, \"linecolor\": \"white\", \"showbackground\": true, \"ticks\": \"\", \"zerolinecolor\": \"white\"}}, \"shapedefaults\": {\"line\": {\"color\": \"#2a3f5f\"}}, \"ternary\": {\"aaxis\": {\"gridcolor\": \"white\", \"linecolor\": \"white\", \"ticks\": \"\"}, \"baxis\": {\"gridcolor\": \"white\", \"linecolor\": \"white\", \"ticks\": \"\"}, \"bgcolor\": \"#E5ECF6\", \"caxis\": {\"gridcolor\": \"white\", \"linecolor\": \"white\", \"ticks\": \"\"}}, \"title\": {\"x\": 0.05}, \"xaxis\": {\"automargin\": true, \"gridcolor\": \"white\", \"linecolor\": \"white\", \"ticks\": \"\", \"title\": {\"standoff\": 15}, \"zerolinecolor\": \"white\", \"zerolinewidth\": 2}, \"yaxis\": {\"automargin\": true, \"gridcolor\": \"white\", \"linecolor\": \"white\", \"ticks\": \"\", \"title\": {\"standoff\": 15}, \"zerolinecolor\": \"white\", \"zerolinewidth\": 2}}}, \"title\": {\"text\": \"State Heatmap\"}},\n",
              "                        {\"responsive\": true}\n",
              "                    ).then(function(){\n",
              "                            \n",
              "var gd = document.getElementById('3c264923-f3d8-4d4c-b289-5aff3a5fd79a');\n",
              "var x = new MutationObserver(function (mutations, observer) {{\n",
              "        var display = window.getComputedStyle(gd).display;\n",
              "        if (!display || display === 'none') {{\n",
              "            console.log([gd, 'removed!']);\n",
              "            Plotly.purge(gd);\n",
              "            observer.disconnect();\n",
              "        }}\n",
              "}});\n",
              "\n",
              "// Listen for the removal of the full notebook cells\n",
              "var notebookContainer = gd.closest('#notebook-container');\n",
              "if (notebookContainer) {{\n",
              "    x.observe(notebookContainer, {childList: true});\n",
              "}}\n",
              "\n",
              "// Listen for the clearing of the current output cell\n",
              "var outputEl = gd.closest('.output');\n",
              "if (outputEl) {{\n",
              "    x.observe(outputEl, {childList: true});\n",
              "}}\n",
              "\n",
              "                        })\n",
              "                };\n",
              "                \n",
              "            </script>\n",
              "        </div>\n",
              "</body>\n",
              "</html>"
            ]
          },
          "metadata": {}
        }
      ],
      "source": [
        "import plotly.express as px  # Be sure to import express\n",
        "fig = px.choropleth(unemployment2,  # Input Pandas DataFrame\n",
        "                    locations=\"addr_state\",  # DataFrame column with locations\n",
        "                    color=\"unemployment_status\",  # DataFrame column with color values\n",
        "                    locationmode = 'USA-states') # Set to plot as US States\n",
        "fig.update_layout(\n",
        "    title_text = 'State Heatmap', # Create a Title\n",
        "    geo_scope='usa',  # Plot only the USA instead of globe\n",
        ")\n",
        "fig.show()  # Output the plot to the screen"
      ]
    },
    {
      "cell_type": "markdown",
      "metadata": {
        "id": "1Lrg-Kn03WR-"
      },
      "source": [
        "- Null Value Status of Lending Club Data"
      ]
    },
    {
      "cell_type": "markdown",
      "metadata": {
        "id": "faLv0dNmA93X"
      },
      "source": [
        "# Target Classes\n",
        "This project goal is to build a model that predicts if a given loan at the time of issue will be `Fully Paid` or `Charged Off`. For that reason, we will pick records with only `Fully Paid` and `Charged Off` loan status to extract insight and use it for prediction."
      ]
    },
    {
      "cell_type": "code",
      "execution_count": null,
      "metadata": {
        "colab": {
          "base_uri": "https://localhost:8080/",
          "height": 435
        },
        "id": "UCc6OyCTA8PT",
        "outputId": "0de4e3dd-5052-405d-c0ec-8f6a625e80f4"
      },
      "outputs": [
        {
          "data": {
            "image/png": "[encoded data removed]",
            "text/plain": [
              "<Figure size 720x360 with 1 Axes>"
            ]
          },
          "metadata": {
            "needs_background": "light"
          },
          "output_type": "display_data"
        }
      ],
      "source": [
        "def show_class_composition(df):\n",
        "  \"\"\"Displaying class composition for the given dataset\n",
        "  Parameters\n",
        "  ----------\n",
        "  df : A panda dataset that has \"loan_status\" feature\n",
        "  \"\"\"\n",
        "  summary = df['loan_status'].value_counts().rename_axis('unique_values').reset_index(name='counts')\n",
        "  summary['percent'] = (100. * (summary['counts'] / summary['counts'].sum())).round(3)\n",
        "  summary['unique_values'] = summary['unique_values'].replace(\n",
        "      ['Does not meet the credit policy. Status:Fully Paid', 'Does not meet the credit policy. Status:Charged Off'],\n",
        "      ['Not meet policy: Fully Paid', 'Not meet policy: Charged Off'])\n",
        "  colors = ['Green', 'gray', 'orange', 'gray', 'gray', 'gray', 'gray', 'gray', 'gray']\n",
        "  plt.rcParams[\"figure.figsize\"] = [10, 5]\n",
        "  fig, ax = plt.subplots()\n",
        "  pps = ax.bar(summary['unique_values'], summary['percent'], width=0.5, align='center', color=colors)\n",
        "  ax.set_ylim([0, summary['percent'].max()+10])\n",
        "  plt.xticks(rotation=45, ha='right')\n",
        "  # Putting percentage value on top of each bar\n",
        "  for p in pps:\n",
        "    y = p.get_height()\n",
        "    ax.text(x=p.get_x()+p.get_width()/2, y=y+1, s=\"{:.2f}%\".format(y), ha='center')\n",
        "  ax.set_title(\"Loan status by percentage\")\n",
        "  ax.set_ylabel(\"Percentage\")\n",
        "  plt.show()\n",
        "\n",
        "show_class_composition(df)"
      ]
    },
    {
      "cell_type": "markdown",
      "metadata": {
        "id": "hzqEOTYy3WR_"
      },
      "source": [
        "- Target Classes with only target variables"
      ]
    },
    {
      "cell_type": "code",
      "execution_count": null,
      "metadata": {
        "id": "05MOmiUy3WSA",
        "outputId": "f63caba8-4921-4829-8352-8502ace14deb"
      },
      "outputs": [
        {
          "data": {
            "image/png": "[encoded data removed]",
            "text/plain": [
              "<Figure size 720x360 with 1 Axes>"
            ]
          },
          "metadata": {},
          "output_type": "display_data"
        }
      ],
      "source": [
        "#pie chart (version2)\n",
        "import matplotlib.pyplot as plt\n",
        "# Pie chart\n",
        "labels = ['Fully Paid', 'Charged off']\n",
        "sizes = [0.800374, 0.199626]\n",
        "#colors\n",
        "colors = ['#23a455','#f58607']\n",
        "\n",
        "    \n",
        "fig1, ax1 = plt.subplots()\n",
        "patches, texts, autotexts = ax1.pie(sizes, colors = colors, labels=labels, autopct='%1.1f%%', startangle=90)\n",
        "for text in texts:\n",
        "    text.set_color('Black')\n",
        "for autotext in autotexts:\n",
        "    autotext.set_color('White')\n",
        "# Equal aspect ratio ensures that pie is drawn as a circle\n",
        "ax1.axis('equal')  \n",
        "plt.tight_layout()\n",
        "plt.title(\"Fully Paid vs. Charged off\")\n",
        "plt.show()"
      ]
    },
    {
      "cell_type": "markdown",
      "metadata": {
        "id": "IGeriR9AWIxq"
      },
      "source": [
        "# Data cleanup for further EDA\n",
        "\n",
        "We have 151 features out of which 19 of them are introduced on September 2012 and 14 features are introduced on January 2016. Since the feature value is NaN before the introduction of the new features, we removed all records before January 2016.\n",
        "\n",
        "Features introduced on September 2012: `total_rev_hi_lim`, `avg_cur_bal`, `mo_sin_old_rev_tl_op`, `mo_sin_rcnt_rev_tl_op`, `mo_sin_rcnt_tl`, `num_accts_ever_120_pd`, `num_actv_bc_tl`, `num_actv_rev_tl`, `num_bc_tl`, `num_il_tl`, `num_op_rev_tl`, `num_rev_accts`, `num_rev_tl_bal_gt_0`, `num_tl_30dpd`, `num_tl_90g_dpd_24m`, `num_tl_op_past_12m`, `pct_tl_nvr_dlq`, `tot_hi_cred_lim`, and `total_il_high_credit_limit`\n",
        "\n",
        "Features introduced on January 2016: `open_acc_6m`, `open_act_il`, `open_il_12m`, `open_il_24m`, `1-mths_since_rcnt_il`, `total_bal_il`, `open_rv_12m`, `open_rv_24m`, `max_bal_bc`, `all_util`, `inq_fi`, `total_cu_tl`, `inq_last_12m`, and `il_util`\n",
        "\n",
        "We didn't conditue more data processing as we did in modeling part."
      ]
    },
    {
      "cell_type": "code",
      "execution_count": null,
      "metadata": {
        "id": "AtYfLZZYJ6P8",
        "outputId": "5e68ec61-8782-4f43-9c1b-0b911f767a5f"
      },
      "outputs": [
        {
          "data": {
            "text/plain": [
              "'\\n# Splitting the data into training, dev and test\\ntrain_data, dev_data, test_data = split_data(df_clean)\\n\\n# Replaces some known features NaN value with 0 value\\n# We performed analysis on each feature to identify which NaN represents 0\\ntrain_data = replaceNaN.fit_transform(train_data)\\ndev_data = replaceNaN.transform(dev_data)\\n\\n# Encode categorical features\\nencode_features = [\\'home_ownership\\', \\'verification_status\\', \\'purpose\\',\\n                   \\'application_type\\', \\'term\\', \\'grade\\', \\'sub_grade\\', \\'emp_length\\',\\n                   \\'initial_list_status\\', \\'disbursement_method\\', \\'loan_status\\']\\ntrain_data = encoders.fit_transform(train_data, encode_features)\\ndev_data = encoders.transform(dev_data)\\ndf_features[\"After Categorical Encoding\"] = train_data.shape[1]\\n\\n# Splitting into Matrix and Label\\ntrain_data, train_label = get_ML(train_data, \\'loan_status=Fully Paid\\')\\ndev_data, dev_label = get_ML(dev_data, \\'loan_status=Fully Paid\\')\\n\\n# It uses KNN to impute NaN values\\ntrain_data = imputer.fit_transform(train_data)\\ndev_data = imputer.transform(dev_data)\\n#test_data = imputer.transform(test_data)\\n\\n\\n# Since regularized methods apply a penalty to the coefficients, we need to ensure our coefficients are on a common scale.\\nscaled_train_data = scaler.fit_transform(train_data)\\nscaled_dev_data = scaler.transform(dev_data)\\n# Converting from ndarray type to panda dataframe type\\nscaled_train_data = pd.DataFrame(scaled_train_data, columns=train_data.columns)\\nscaled_dev_data = pd.DataFrame(scaled_dev_data, columns=dev_data.columns)\\n\\n# min/max scaler\\nmin_max_scaler = MinMaxScaler()\\nmin_max_scaled_train_data = min_max_scaler.fit_transform(train_data)\\nmin_max_scaled_dev_data = min_max_scaler.transform(dev_data)\\nmin_max_scaled_train_data = pd.DataFrame(min_max_scaled_train_data, columns=train_data.columns)\\nmin_max_scaled_dev_data = pd.DataFrame(min_max_scaled_dev_data, columns=dev_data.columns)'"
            ]
          },
          "execution_count": 12,
          "metadata": {},
          "output_type": "execute_result"
        }
      ],
      "source": [
        "# Initialing objects that will be used for feature engineering\n",
        "encoders = Encoders()\n",
        "replaceNaN = ReplaceNaN()\n",
        "imputer = Imputer()\n",
        "scaler = StandardScaler()\n",
        "vectorizer = TfidfVectorizer(stop_words='english', max_features = 100)# min_df=0.1)\n",
        "#titleParser = TitleParser()\n",
        "df_records = {}\n",
        "df_features = {}\n",
        "\n",
        "df_records[\"Original\"] = df.shape[0]\n",
        "df_features[\"Original\"] = df.shape[1]\n",
        "# Removing loans other than \"Fully Paid\" and \"Charged Off\"\n",
        "df_clean = remove_invalid_rows(df)\n",
        "df_records[\"After invalid rows removed\"] = df_clean.shape[0]\n",
        "df_clean = convert_to_date(df_clean) # String datatype to datetime conversion\n",
        "# Taking data starting from January 2016 based on the above reason\n",
        "df_clean = get_data_since(df_clean, datetime.date(2016, 1, 1))\n",
        "\n",
        "# The following three feature generators do mapping from one column to another column\n",
        "df_clean = add_issue_date_feature(df_clean) # Date to integer converion\n",
        "df_clean = add_unemployment_rate(unemployment, df_clean)\n",
        "df_clean = months_since_earliest_cr_line(df_clean)\n",
        "df_features[\"After generating new features\"] = df_clean.shape[1]\n",
        "df_clean = remove_features(df_clean)\n",
        "df_records[\"After removing data before Jan 2016\"] = df_clean.shape[0]\n",
        "df_features[\"After removing features\"] = df_clean.shape[1]\n",
        "\n",
        "# For EDA part, we stopped prcessing before we split the data into training, dev, and test.\n",
        "'''\n",
        "# Splitting the data into training, dev and test\n",
        "train_data, dev_data, test_data = split_data(df_clean)\n",
        "\n",
        "# Replaces some known features NaN value with 0 value\n",
        "# We performed analysis on each feature to identify which NaN represents 0\n",
        "train_data = replaceNaN.fit_transform(train_data)\n",
        "dev_data = replaceNaN.transform(dev_data)\n",
        "\n",
        "# Encode categorical features\n",
        "encode_features = ['home_ownership', 'verification_status', 'purpose',\n",
        "                   'application_type', 'term', 'grade', 'sub_grade', 'emp_length',\n",
        "                   'initial_list_status', 'disbursement_method', 'loan_status']\n",
        "train_data = encoders.fit_transform(train_data, encode_features)\n",
        "dev_data = encoders.transform(dev_data)\n",
        "df_features[\"After Categorical Encoding\"] = train_data.shape[1]\n",
        "\n",
        "# Splitting into Matrix and Label\n",
        "train_data, train_label = get_ML(train_data, 'loan_status=Fully Paid')\n",
        "dev_data, dev_label = get_ML(dev_data, 'loan_status=Fully Paid')\n",
        "\n",
        "# It uses KNN to impute NaN values\n",
        "train_data = imputer.fit_transform(train_data)\n",
        "dev_data = imputer.transform(dev_data)\n",
        "#test_data = imputer.transform(test_data)\n",
        "\n",
        "\n",
        "# Since regularized methods apply a penalty to the coefficients, we need to ensure our coefficients are on a common scale.\n",
        "scaled_train_data = scaler.fit_transform(train_data)\n",
        "scaled_dev_data = scaler.transform(dev_data)\n",
        "# Converting from ndarray type to panda dataframe type\n",
        "scaled_train_data = pd.DataFrame(scaled_train_data, columns=train_data.columns)\n",
        "scaled_dev_data = pd.DataFrame(scaled_dev_data, columns=dev_data.columns)\n",
        "\n",
        "# min/max scaler\n",
        "min_max_scaler = MinMaxScaler()\n",
        "min_max_scaled_train_data = min_max_scaler.fit_transform(train_data)\n",
        "min_max_scaled_dev_data = min_max_scaler.transform(dev_data)\n",
        "min_max_scaled_train_data = pd.DataFrame(min_max_scaled_train_data, columns=train_data.columns)\n",
        "min_max_scaled_dev_data = pd.DataFrame(min_max_scaled_dev_data, columns=dev_data.columns)'''"
      ]
    },
    {
      "cell_type": "code",
      "execution_count": null,
      "metadata": {
        "id": "pUkS_bfs3WSB",
        "outputId": "fa45a6ad-09ae-46d7-d527-fd443fc47130"
      },
      "outputs": [
        {
          "data": {
            "text/html": [
              "<div>\n",
              "<style scoped>\n",
              "    .dataframe tbody tr th:only-of-type {\n",
              "        vertical-align: middle;\n",
              "    }\n",
              "\n",
              "    .dataframe tbody tr th {\n",
              "        vertical-align: top;\n",
              "    }\n",
              "\n",
              "    .dataframe thead th {\n",
              "        text-align: right;\n",
              "    }\n",
              "</style>\n",
              "<table border=\"1\" class=\"dataframe\">\n",
              "  <thead>\n",
              "    <tr style=\"text-align: right;\">\n",
              "      <th></th>\n",
              "      <th>loan_amnt</th>\n",
              "      <th>term</th>\n",
              "      <th>int_rate</th>\n",
              "      <th>installment</th>\n",
              "      <th>grade</th>\n",
              "      <th>sub_grade</th>\n",
              "      <th>emp_length</th>\n",
              "      <th>home_ownership</th>\n",
              "      <th>annual_inc</th>\n",
              "      <th>verification_status</th>\n",
              "      <th>...</th>\n",
              "      <th>tax_liens</th>\n",
              "      <th>tot_hi_cred_lim</th>\n",
              "      <th>total_bal_ex_mort</th>\n",
              "      <th>total_bc_limit</th>\n",
              "      <th>total_il_high_credit_limit</th>\n",
              "      <th>disbursement_method</th>\n",
              "      <th>issue_year</th>\n",
              "      <th>issue_month</th>\n",
              "      <th>unemployment_rate</th>\n",
              "      <th>earliest_cr_line_months</th>\n",
              "    </tr>\n",
              "  </thead>\n",
              "  <tbody>\n",
              "    <tr>\n",
              "      <th>421101</th>\n",
              "      <td>3000.0</td>\n",
              "      <td>36 months</td>\n",
              "      <td>7.34</td>\n",
              "      <td>93.10</td>\n",
              "      <td>A</td>\n",
              "      <td>A4</td>\n",
              "      <td>9 years</td>\n",
              "      <td>RENT</td>\n",
              "      <td>52000.0</td>\n",
              "      <td>Source Verified</td>\n",
              "      <td>...</td>\n",
              "      <td>0.0</td>\n",
              "      <td>191216.0</td>\n",
              "      <td>141.0</td>\n",
              "      <td>30500.0</td>\n",
              "      <td>0.0</td>\n",
              "      <td>Cash</td>\n",
              "      <td>2018</td>\n",
              "      <td>3</td>\n",
              "      <td>4.4</td>\n",
              "      <td>242</td>\n",
              "    </tr>\n",
              "    <tr>\n",
              "      <th>421113</th>\n",
              "      <td>5000.0</td>\n",
              "      <td>36 months</td>\n",
              "      <td>11.98</td>\n",
              "      <td>166.03</td>\n",
              "      <td>B</td>\n",
              "      <td>B5</td>\n",
              "      <td>10+ years</td>\n",
              "      <td>OWN</td>\n",
              "      <td>55000.0</td>\n",
              "      <td>Not Verified</td>\n",
              "      <td>...</td>\n",
              "      <td>0.0</td>\n",
              "      <td>61551.0</td>\n",
              "      <td>28880.0</td>\n",
              "      <td>22000.0</td>\n",
              "      <td>27751.0</td>\n",
              "      <td>Cash</td>\n",
              "      <td>2018</td>\n",
              "      <td>3</td>\n",
              "      <td>4.2</td>\n",
              "      <td>199</td>\n",
              "    </tr>\n",
              "    <tr>\n",
              "      <th>421120</th>\n",
              "      <td>7000.0</td>\n",
              "      <td>36 months</td>\n",
              "      <td>11.98</td>\n",
              "      <td>232.44</td>\n",
              "      <td>B</td>\n",
              "      <td>B5</td>\n",
              "      <td>&lt; 1 year</td>\n",
              "      <td>MORTGAGE</td>\n",
              "      <td>40000.0</td>\n",
              "      <td>Verified</td>\n",
              "      <td>...</td>\n",
              "      <td>0.0</td>\n",
              "      <td>132817.0</td>\n",
              "      <td>131726.0</td>\n",
              "      <td>10000.0</td>\n",
              "      <td>118917.0</td>\n",
              "      <td>Cash</td>\n",
              "      <td>2018</td>\n",
              "      <td>3</td>\n",
              "      <td>4.0</td>\n",
              "      <td>132</td>\n",
              "    </tr>\n",
              "    <tr>\n",
              "      <th>421135</th>\n",
              "      <td>30000.0</td>\n",
              "      <td>36 months</td>\n",
              "      <td>21.85</td>\n",
              "      <td>1143.39</td>\n",
              "      <td>D</td>\n",
              "      <td>D5</td>\n",
              "      <td>10+ years</td>\n",
              "      <td>OWN</td>\n",
              "      <td>57000.0</td>\n",
              "      <td>Verified</td>\n",
              "      <td>...</td>\n",
              "      <td>0.0</td>\n",
              "      <td>188780.0</td>\n",
              "      <td>62252.0</td>\n",
              "      <td>29400.0</td>\n",
              "      <td>35000.0</td>\n",
              "      <td>Cash</td>\n",
              "      <td>2018</td>\n",
              "      <td>3</td>\n",
              "      <td>3.8</td>\n",
              "      <td>215</td>\n",
              "    </tr>\n",
              "    <tr>\n",
              "      <th>421137</th>\n",
              "      <td>21000.0</td>\n",
              "      <td>60 months</td>\n",
              "      <td>20.39</td>\n",
              "      <td>560.94</td>\n",
              "      <td>D</td>\n",
              "      <td>D4</td>\n",
              "      <td>10+ years</td>\n",
              "      <td>OWN</td>\n",
              "      <td>85000.0</td>\n",
              "      <td>Source Verified</td>\n",
              "      <td>...</td>\n",
              "      <td>0.0</td>\n",
              "      <td>172433.0</td>\n",
              "      <td>51667.0</td>\n",
              "      <td>27100.0</td>\n",
              "      <td>39733.0</td>\n",
              "      <td>Cash</td>\n",
              "      <td>2018</td>\n",
              "      <td>3</td>\n",
              "      <td>4.3</td>\n",
              "      <td>112</td>\n",
              "    </tr>\n",
              "    <tr>\n",
              "      <th>...</th>\n",
              "      <td>...</td>\n",
              "      <td>...</td>\n",
              "      <td>...</td>\n",
              "      <td>...</td>\n",
              "      <td>...</td>\n",
              "      <td>...</td>\n",
              "      <td>...</td>\n",
              "      <td>...</td>\n",
              "      <td>...</td>\n",
              "      <td>...</td>\n",
              "      <td>...</td>\n",
              "      <td>...</td>\n",
              "      <td>...</td>\n",
              "      <td>...</td>\n",
              "      <td>...</td>\n",
              "      <td>...</td>\n",
              "      <td>...</td>\n",
              "      <td>...</td>\n",
              "      <td>...</td>\n",
              "      <td>...</td>\n",
              "      <td>...</td>\n",
              "    </tr>\n",
              "    <tr>\n",
              "      <th>2260688</th>\n",
              "      <td>18000.0</td>\n",
              "      <td>60 months</td>\n",
              "      <td>9.49</td>\n",
              "      <td>377.95</td>\n",
              "      <td>B</td>\n",
              "      <td>B2</td>\n",
              "      <td>5 years</td>\n",
              "      <td>OWN</td>\n",
              "      <td>130000.0</td>\n",
              "      <td>Not Verified</td>\n",
              "      <td>...</td>\n",
              "      <td>0.0</td>\n",
              "      <td>275356.0</td>\n",
              "      <td>54349.0</td>\n",
              "      <td>13100.0</td>\n",
              "      <td>77756.0</td>\n",
              "      <td>Cash</td>\n",
              "      <td>2016</td>\n",
              "      <td>10</td>\n",
              "      <td>4.8</td>\n",
              "      <td>147</td>\n",
              "    </tr>\n",
              "    <tr>\n",
              "      <th>2260690</th>\n",
              "      <td>29400.0</td>\n",
              "      <td>60 months</td>\n",
              "      <td>13.99</td>\n",
              "      <td>683.94</td>\n",
              "      <td>C</td>\n",
              "      <td>C3</td>\n",
              "      <td>9 years</td>\n",
              "      <td>MORTGAGE</td>\n",
              "      <td>180792.0</td>\n",
              "      <td>Not Verified</td>\n",
              "      <td>...</td>\n",
              "      <td>0.0</td>\n",
              "      <td>719056.0</td>\n",
              "      <td>148305.0</td>\n",
              "      <td>56500.0</td>\n",
              "      <td>95702.0</td>\n",
              "      <td>Cash</td>\n",
              "      <td>2016</td>\n",
              "      <td>10</td>\n",
              "      <td>5.5</td>\n",
              "      <td>175</td>\n",
              "    </tr>\n",
              "    <tr>\n",
              "      <th>2260691</th>\n",
              "      <td>32000.0</td>\n",
              "      <td>60 months</td>\n",
              "      <td>14.49</td>\n",
              "      <td>752.74</td>\n",
              "      <td>C</td>\n",
              "      <td>C4</td>\n",
              "      <td>3 years</td>\n",
              "      <td>MORTGAGE</td>\n",
              "      <td>157000.0</td>\n",
              "      <td>Source Verified</td>\n",
              "      <td>...</td>\n",
              "      <td>0.0</td>\n",
              "      <td>524379.0</td>\n",
              "      <td>122872.0</td>\n",
              "      <td>15800.0</td>\n",
              "      <td>23879.0</td>\n",
              "      <td>Cash</td>\n",
              "      <td>2016</td>\n",
              "      <td>10</td>\n",
              "      <td>5.4</td>\n",
              "      <td>64</td>\n",
              "    </tr>\n",
              "    <tr>\n",
              "      <th>2260692</th>\n",
              "      <td>16000.0</td>\n",
              "      <td>60 months</td>\n",
              "      <td>12.79</td>\n",
              "      <td>362.34</td>\n",
              "      <td>C</td>\n",
              "      <td>C1</td>\n",
              "      <td>10+ years</td>\n",
              "      <td>RENT</td>\n",
              "      <td>150000.0</td>\n",
              "      <td>Not Verified</td>\n",
              "      <td>...</td>\n",
              "      <td>0.0</td>\n",
              "      <td>87473.0</td>\n",
              "      <td>65797.0</td>\n",
              "      <td>10100.0</td>\n",
              "      <td>73473.0</td>\n",
              "      <td>Cash</td>\n",
              "      <td>2016</td>\n",
              "      <td>10</td>\n",
              "      <td>5.1</td>\n",
              "      <td>230</td>\n",
              "    </tr>\n",
              "    <tr>\n",
              "      <th>2260697</th>\n",
              "      <td>24000.0</td>\n",
              "      <td>60 months</td>\n",
              "      <td>14.49</td>\n",
              "      <td>564.56</td>\n",
              "      <td>C</td>\n",
              "      <td>C4</td>\n",
              "      <td>6 years</td>\n",
              "      <td>RENT</td>\n",
              "      <td>110000.0</td>\n",
              "      <td>Not Verified</td>\n",
              "      <td>...</td>\n",
              "      <td>0.0</td>\n",
              "      <td>84664.0</td>\n",
              "      <td>62426.0</td>\n",
              "      <td>20700.0</td>\n",
              "      <td>58764.0</td>\n",
              "      <td>Cash</td>\n",
              "      <td>2016</td>\n",
              "      <td>10</td>\n",
              "      <td>4.9</td>\n",
              "      <td>207</td>\n",
              "    </tr>\n",
              "  </tbody>\n",
              "</table>\n",
              "<p>490309 rows × 89 columns</p>\n",
              "</div>"
            ],
            "text/plain": [
              "         loan_amnt        term  int_rate  installment grade sub_grade  \\\n",
              "421101      3000.0   36 months      7.34        93.10     A        A4   \n",
              "421113      5000.0   36 months     11.98       166.03     B        B5   \n",
              "421120      7000.0   36 months     11.98       232.44     B        B5   \n",
              "421135     30000.0   36 months     21.85      1143.39     D        D5   \n",
              "421137     21000.0   60 months     20.39       560.94     D        D4   \n",
              "...            ...         ...       ...          ...   ...       ...   \n",
              "2260688    18000.0   60 months      9.49       377.95     B        B2   \n",
              "2260690    29400.0   60 months     13.99       683.94     C        C3   \n",
              "2260691    32000.0   60 months     14.49       752.74     C        C4   \n",
              "2260692    16000.0   60 months     12.79       362.34     C        C1   \n",
              "2260697    24000.0   60 months     14.49       564.56     C        C4   \n",
              "\n",
              "        emp_length home_ownership  annual_inc verification_status  ...  \\\n",
              "421101     9 years           RENT     52000.0     Source Verified  ...   \n",
              "421113   10+ years            OWN     55000.0        Not Verified  ...   \n",
              "421120    < 1 year       MORTGAGE     40000.0            Verified  ...   \n",
              "421135   10+ years            OWN     57000.0            Verified  ...   \n",
              "421137   10+ years            OWN     85000.0     Source Verified  ...   \n",
              "...            ...            ...         ...                 ...  ...   \n",
              "2260688    5 years            OWN    130000.0        Not Verified  ...   \n",
              "2260690    9 years       MORTGAGE    180792.0        Not Verified  ...   \n",
              "2260691    3 years       MORTGAGE    157000.0     Source Verified  ...   \n",
              "2260692  10+ years           RENT    150000.0        Not Verified  ...   \n",
              "2260697    6 years           RENT    110000.0        Not Verified  ...   \n",
              "\n",
              "        tax_liens tot_hi_cred_lim total_bal_ex_mort  total_bc_limit  \\\n",
              "421101        0.0        191216.0             141.0         30500.0   \n",
              "421113        0.0         61551.0           28880.0         22000.0   \n",
              "421120        0.0        132817.0          131726.0         10000.0   \n",
              "421135        0.0        188780.0           62252.0         29400.0   \n",
              "421137        0.0        172433.0           51667.0         27100.0   \n",
              "...           ...             ...               ...             ...   \n",
              "2260688       0.0        275356.0           54349.0         13100.0   \n",
              "2260690       0.0        719056.0          148305.0         56500.0   \n",
              "2260691       0.0        524379.0          122872.0         15800.0   \n",
              "2260692       0.0         87473.0           65797.0         10100.0   \n",
              "2260697       0.0         84664.0           62426.0         20700.0   \n",
              "\n",
              "         total_il_high_credit_limit  disbursement_method  issue_year  \\\n",
              "421101                          0.0                 Cash        2018   \n",
              "421113                      27751.0                 Cash        2018   \n",
              "421120                     118917.0                 Cash        2018   \n",
              "421135                      35000.0                 Cash        2018   \n",
              "421137                      39733.0                 Cash        2018   \n",
              "...                             ...                  ...         ...   \n",
              "2260688                     77756.0                 Cash        2016   \n",
              "2260690                     95702.0                 Cash        2016   \n",
              "2260691                     23879.0                 Cash        2016   \n",
              "2260692                     73473.0                 Cash        2016   \n",
              "2260697                     58764.0                 Cash        2016   \n",
              "\n",
              "         issue_month  unemployment_rate  earliest_cr_line_months  \n",
              "421101             3                4.4                      242  \n",
              "421113             3                4.2                      199  \n",
              "421120             3                4.0                      132  \n",
              "421135             3                3.8                      215  \n",
              "421137             3                4.3                      112  \n",
              "...              ...                ...                      ...  \n",
              "2260688           10                4.8                      147  \n",
              "2260690           10                5.5                      175  \n",
              "2260691           10                5.4                       64  \n",
              "2260692           10                5.1                      230  \n",
              "2260697           10                4.9                      207  \n",
              "\n",
              "[490309 rows x 89 columns]"
            ]
          },
          "execution_count": 14,
          "metadata": {},
          "output_type": "execute_result"
        }
      ],
      "source": [
        "df_clean"
      ]
    },
    {
      "cell_type": "markdown",
      "metadata": {
        "id": "jmdhDU9P3WSB"
      },
      "source": [
        "# Fully Paid vs. Charged off \n",
        "\n",
        "It is important to compare the Fully Paid and Charge off with proper EDA. \n",
        "There are many columns to look into, but we have chosen primary aspects that we thought important to check. \n",
        "\n",
        "\n",
        "Features to check: `loan_amnt`, `Installment`, `Interest Rate`, `annual_inc`, \n"
      ]
    },
    {
      "cell_type": "code",
      "execution_count": null,
      "metadata": {
        "id": "DEqAudy93WSB"
      },
      "outputs": [],
      "source": [
        "import seaborn as sns\n",
        "def plot_var(col_name, full_name, continuous):\n",
        "    \"\"\"\n",
        "    Visualize a variable with and without faceting on the loan status.\n",
        "    - col_name is the variable name in the dataframe\n",
        "    - full_name is the full variable name\n",
        "    - continuous is True if the variable is continuous, False otherwise\n",
        "    \"\"\"\n",
        "    f, (ax1, ax2) = plt.subplots(nrows=1, ncols=2, figsize=(12,3), dpi=90)\n",
        "    \n",
        "    # Plot without loan status\n",
        "    if continuous:\n",
        "        sns.distplot(df_clean.loc[df_clean[col_name].notnull(), col_name], kde=False, ax=ax1)\n",
        "    else:\n",
        "        sns.countplot(df_clean[col_name], order=sorted(df_clean[col_name].unique()), color='#5975A4', saturation=1, ax=ax1)\n",
        "    ax1.set_xlabel(full_name)\n",
        "    ax1.set_ylabel('Count')\n",
        "    ax1.set_title(full_name)\n",
        "\n",
        "    # Plot with loan status\n",
        "    my_pal = {'Fully Paid': \"green\", \"Charged Off\": \"orange\"}\n",
        "    if continuous:\n",
        "        sns.boxplot(x=col_name, y='loan_status', data=df_clean, ax=ax2, palette=my_pal)\n",
        "        ax2.set_ylabel('')\n",
        "        ax2.set_title(full_name + ' by Loan Status')\n",
        "    else:\n",
        "        charge_off_rates = loans.groupby(col_name)['loan_status'].value_counts(normalize=True).loc[:,'Charged Off']\n",
        "        sns.barplot(x=charge_off_rates.index, y=charge_off_rates.values, color='#5975A4', saturation=1, ax=ax2)\n",
        "        ax2.set_ylabel('Fraction of Loans Charged-off')\n",
        "        ax2.set_title('Charge-off Rate by ' + full_name)\n",
        "    ax2.set_xlabel(full_name)\n",
        "    \n",
        "    plt.tight_layout()"
      ]
    },
    {
      "cell_type": "code",
      "execution_count": null,
      "metadata": {
        "id": "ipzNKHJS3WSB",
        "outputId": "94a58992-10e7-4619-f76a-d6566dd8d9c8"
      },
      "outputs": [
        {
          "data": {
            "image/png": "[encoded data removed]",
            "text/plain": [
              "<Figure size 1080x270 with 2 Axes>"
            ]
          },
          "metadata": {
            "needs_background": "light"
          },
          "output_type": "display_data"
        }
      ],
      "source": [
        "plot_var('loan_amnt', 'loan_amnt', continuous=True)"
      ]
    },
    {
      "cell_type": "code",
      "execution_count": null,
      "metadata": {
        "id": "B25QSFs-3WSC",
        "outputId": "cb0468d0-98f3-4403-d46d-990e99cb0e9e"
      },
      "outputs": [
        {
          "data": {
            "image/png": "[encoded data removed]",
            "text/plain": [
              "<Figure size 1080x270 with 2 Axes>"
            ]
          },
          "metadata": {
            "needs_background": "light"
          },
          "output_type": "display_data"
        }
      ],
      "source": [
        "plot_var('installment', 'Installment', continuous=True)"
      ]
    },
    {
      "cell_type": "code",
      "execution_count": null,
      "metadata": {
        "id": "wd2k9iGo3WSC",
        "outputId": "88ac4b8a-ab1c-4843-c985-26ac20c7d29d"
      },
      "outputs": [
        {
          "data": {
            "image/png": "[encoded data removed]",
            "text/plain": [
              "<Figure size 1080x270 with 2 Axes>"
            ]
          },
          "metadata": {
            "needs_background": "light"
          },
          "output_type": "display_data"
        }
      ],
      "source": [
        "plot_var('int_rate', 'Interest Rate', continuous=True)"
      ]
    },
    {
      "cell_type": "code",
      "execution_count": null,
      "metadata": {
        "id": "uKoIpaJL3WSC",
        "outputId": "c3b2bbbe-ebe4-4224-e699-67e7fa8ce16e"
      },
      "outputs": [
        {
          "data": {
            "text/html": [
              "<div>\n",
              "<style scoped>\n",
              "    .dataframe tbody tr th:only-of-type {\n",
              "        vertical-align: middle;\n",
              "    }\n",
              "\n",
              "    .dataframe tbody tr th {\n",
              "        vertical-align: top;\n",
              "    }\n",
              "\n",
              "    .dataframe thead th {\n",
              "        text-align: right;\n",
              "    }\n",
              "</style>\n",
              "<table border=\"1\" class=\"dataframe\">\n",
              "  <thead>\n",
              "    <tr style=\"text-align: right;\">\n",
              "      <th></th>\n",
              "      <th>count</th>\n",
              "      <th>mean</th>\n",
              "      <th>std</th>\n",
              "      <th>min</th>\n",
              "      <th>25%</th>\n",
              "      <th>50%</th>\n",
              "      <th>75%</th>\n",
              "      <th>max</th>\n",
              "    </tr>\n",
              "    <tr>\n",
              "      <th>loan_status</th>\n",
              "      <th></th>\n",
              "      <th></th>\n",
              "      <th></th>\n",
              "      <th></th>\n",
              "      <th></th>\n",
              "      <th></th>\n",
              "      <th></th>\n",
              "      <th></th>\n",
              "    </tr>\n",
              "  </thead>\n",
              "  <tbody>\n",
              "    <tr>\n",
              "      <th>Charged Off</th>\n",
              "      <td>110795.00</td>\n",
              "      <td>4.79</td>\n",
              "      <td>0.27</td>\n",
              "      <td>0.00</td>\n",
              "      <td>4.64</td>\n",
              "      <td>4.79</td>\n",
              "      <td>4.94</td>\n",
              "      <td>6.81</td>\n",
              "    </tr>\n",
              "    <tr>\n",
              "      <th>Fully Paid</th>\n",
              "      <td>379514.00</td>\n",
              "      <td>4.83</td>\n",
              "      <td>0.28</td>\n",
              "      <td>0.00</td>\n",
              "      <td>4.68</td>\n",
              "      <td>4.83</td>\n",
              "      <td>4.98</td>\n",
              "      <td>7.04</td>\n",
              "    </tr>\n",
              "  </tbody>\n",
              "</table>\n",
              "</div>"
            ],
            "text/plain": [
              "                count  mean  std  min  25%  50%  75%  max\n",
              "loan_status                                              \n",
              "Charged Off 110795.00  4.79 0.27 0.00 4.64 4.79 4.94 6.81\n",
              "Fully Paid  379514.00  4.83 0.28 0.00 4.68 4.83 4.98 7.04"
            ]
          },
          "execution_count": 279,
          "metadata": {},
          "output_type": "execute_result"
        },
        {
          "data": {
            "image/png": "[encoded data removed]",
            "text/plain": [
              "<Figure size 1080x270 with 2 Axes>"
            ]
          },
          "metadata": {
            "needs_background": "light"
          },
          "output_type": "display_data"
        }
      ],
      "source": [
        "df_clean['log_annual_inc'] = df_clean['annual_inc'].apply(lambda x: np.log10(x+1))\n",
        "df_clean['log_annual_inc'].describe()\n",
        "plot_var('log_annual_inc', 'Log Annual Income', continuous=True)\n",
        "df_clean.groupby('loan_status')['log_annual_inc'].describe()"
      ]
    },
    {
      "cell_type": "markdown",
      "metadata": {
        "id": "jA4dKkFR3WSC"
      },
      "source": [
        "# Fully Paid vs. Charged off : Purpose "
      ]
    },
    {
      "cell_type": "code",
      "execution_count": null,
      "metadata": {
        "id": "-vn_52UG3WSD"
      },
      "outputs": [],
      "source": [
        "pur1=df_clean[df_clean['loan_status']=='Fully Paid']['purpose'].value_counts(normalize=True).reset_index()\n",
        "pur1.columns=['purpose','Fully Paid']"
      ]
    },
    {
      "cell_type": "code",
      "execution_count": null,
      "metadata": {
        "id": "ru0HOV9o3WSD"
      },
      "outputs": [],
      "source": [
        "pur2=df_clean[df_clean['loan_status']=='Charged Off']['purpose'].value_counts(normalize=True).reset_index()\n",
        "pur2.columns=['purpose','Charged Off']"
      ]
    },
    {
      "cell_type": "code",
      "execution_count": null,
      "metadata": {
        "id": "tkNWP8543WSD"
      },
      "outputs": [],
      "source": [
        "pur=pd.merge(pur1,pur2,on=['purpose'])"
      ]
    },
    {
      "cell_type": "code",
      "execution_count": null,
      "metadata": {
        "id": "2GXLsPQ83WSD",
        "outputId": "23456ca6-845b-45cb-f4ba-891d1e197e4d"
      },
      "outputs": [
        {
          "data": {
            "image/png": "[encoded data removed]",
            "text/plain": [
              "<Figure size 864x504 with 1 Axes>"
            ]
          },
          "metadata": {
            "needs_background": "light"
          },
          "output_type": "display_data"
        }
      ],
      "source": [
        "pur.plot(x=\"purpose\", y=[\"Fully Paid\", \"Charged Off\"], kind=\"bar\",figsize=(12,7),color={\"Fully Paid\": \"green\", \"Charged Off\": \"orange\"})\n",
        "plt.xlabel('Purpose')\n",
        "plt.ylabel('Percentage(100%)')\n",
        "plt.title('Purpose of Loan Between Fully Paid vs. Charged Off')\n",
        "plt.show()"
      ]
    },
    {
      "cell_type": "markdown",
      "metadata": {
        "id": "BK95G5Lu3WSE"
      },
      "source": [
        "# Fully Paid vs. Charged off : Grade "
      ]
    },
    {
      "cell_type": "code",
      "execution_count": null,
      "metadata": {
        "id": "78IzL1CK3WSE"
      },
      "outputs": [],
      "source": [
        "gr1=df_clean[df_clean['loan_status']=='Fully Paid']['grade'].value_counts(normalize=True).reset_index()\n",
        "gr1.columns=['grade','Fully Paid']"
      ]
    },
    {
      "cell_type": "code",
      "execution_count": null,
      "metadata": {
        "id": "zJ7tLpg-3WSE"
      },
      "outputs": [],
      "source": [
        "gr2=df_clean[df_clean['loan_status']=='Charged Off']['grade'].value_counts(normalize=True).reset_index()\n",
        "gr2.columns=['grade','Charged Off']"
      ]
    },
    {
      "cell_type": "code",
      "execution_count": null,
      "metadata": {
        "id": "rnGFqsTf3WSE"
      },
      "outputs": [],
      "source": [
        "gr=pd.merge(gr1,gr2,on=['grade'])"
      ]
    },
    {
      "cell_type": "code",
      "execution_count": null,
      "metadata": {
        "id": "JocjGQR73WSE"
      },
      "outputs": [],
      "source": [
        "gr=gr.sort_values(by='grade')"
      ]
    },
    {
      "cell_type": "code",
      "execution_count": null,
      "metadata": {
        "id": "GzKvJjIZ3WSE",
        "outputId": "cae62a3e-39be-40a7-ce5a-831266b12fbb"
      },
      "outputs": [
        {
          "data": {
            "image/png": "[encoded data removed]",
            "text/plain": [
              "<Figure size 864x504 with 1 Axes>"
            ]
          },
          "metadata": {
            "needs_background": "light"
          },
          "output_type": "display_data"
        }
      ],
      "source": [
        "gr.plot(x=\"grade\", y=[\"Fully Paid\", \"Charged Off\"], kind=\"bar\",figsize=(12,7),color={\"Fully Paid\": \"green\", \"Charged Off\": \"orange\"})\n",
        "plt.xlabel('grade')\n",
        "plt.ylabel('Percentage(100%)')\n",
        "plt.title('Grade Between Fully Paid vs. Charged Off')\n",
        "plt.show()"
      ]
    },
    {
      "cell_type": "markdown",
      "metadata": {
        "id": "K53v0UmR3WSF"
      },
      "source": [
        "# Average Interest by Loan Grade"
      ]
    },
    {
      "cell_type": "code",
      "execution_count": null,
      "metadata": {
        "id": "l03wEuof3WSF",
        "outputId": "fb2b2b89-7f96-4aef-b09a-ad4acd3836aa"
      },
      "outputs": [
        {
          "data": {
            "image/png": "[encoded data removed]",
            "text/plain": [
              "<Figure size 720x360 with 1 Axes>"
            ]
          },
          "metadata": {
            "needs_background": "light"
          },
          "output_type": "display_data"
        }
      ],
      "source": [
        "def show_return_by_grade():\n",
        "  \"\"\"Bar plot to show loan average mean return by grade\"\"\"\n",
        "  # Generating summary data for each grade\n",
        "  return_by_grade, _, _ = split_data(df_clean)\n",
        "  return_by_grade= return_by_grade[['grade','int_rate']]\n",
        "  grouped_df = return_by_grade.groupby(\"grade\")\n",
        "  grouped_df = grouped_df.mean()\n",
        "  grouped_df = grouped_df.reset_index()\n",
        "  # Plotting interest rate bar chart for each loan grade\n",
        "  plt.rcParams[\"figure.figsize\"] = [10, 5]\n",
        "  fig, ax = plt.subplots()\n",
        "  pps = ax.bar(grouped_df['grade'], grouped_df['int_rate'], width=0.5, align='center')\n",
        "  ax.set_ylim([0, grouped_df['int_rate'].max()+5])\n",
        "  # Putting percentage value on top of each bar\n",
        "  for p in pps:\n",
        "    y = p.get_height()\n",
        "    ax.text(x=p.get_x()+p.get_width()/2, y=y+0.5, s=\"{:.2f}%\".format(y), ha='center')\n",
        "  ax.set_title(\"Interest rate by loan grade\")\n",
        "  ax.set_ylabel(\"Interest Rate\")\n",
        "  ax.set_xlabel(\"Loan Grade\")\n",
        "  plt.show()\n",
        "\n",
        "show_return_by_grade()"
      ]
    },
    {
      "cell_type": "markdown",
      "metadata": {
        "id": "O0VF3Ry13WSF"
      },
      "source": [
        "# Grade Distribution"
      ]
    },
    {
      "cell_type": "code",
      "execution_count": null,
      "metadata": {
        "id": "esPOznxa3WSF",
        "outputId": "3f2fcdcb-647d-4c2c-c902-c4a610424022"
      },
      "outputs": [
        {
          "data": {
            "text/plain": [
              "C    149192\n",
              "B    142033\n",
              "A     82565\n",
              "D     71836\n",
              "E     29864\n",
              "F     10710\n",
              "G      4109\n",
              "Name: grade, dtype: int64"
            ]
          },
          "execution_count": 314,
          "metadata": {},
          "output_type": "execute_result"
        }
      ],
      "source": [
        "df_clean['grade'].value_counts()"
      ]
    },
    {
      "cell_type": "code",
      "execution_count": null,
      "metadata": {
        "id": "fJle3TQZ3WSF",
        "outputId": "30f63ab8-299d-4379-cbac-a70e046dd3df"
      },
      "outputs": [
        {
          "data": {
            "text/plain": [
              "loan_status  grade\n",
              "Charged Off  A          5699\n",
              "             B         22414\n",
              "             C         38111\n",
              "             D         24554\n",
              "             E         12443\n",
              "             F          5379\n",
              "             G          2195\n",
              "Fully Paid   A         76866\n",
              "             B        119619\n",
              "             C        111081\n",
              "             D         47282\n",
              "             E         17421\n",
              "             F          5331\n",
              "             G          1914\n",
              "dtype: int64"
            ]
          },
          "execution_count": 335,
          "metadata": {},
          "output_type": "execute_result"
        }
      ],
      "source": [
        "# grade distribution by number\n",
        "df_clean.groupby(['loan_status','grade']).size()"
      ]
    },
    {
      "cell_type": "code",
      "execution_count": null,
      "metadata": {
        "id": "fMT1et8Z3WSF"
      },
      "outputs": [],
      "source": [
        "# grade distribution by percentage\n",
        "sum_= df_clean.groupby(['loan_status','grade']).size()\n",
        "# Change: groupby state_office and divide by sum\n",
        "perc_ = sum_.groupby(level=0).apply(lambda x:\n",
        "                                                 100 * x / float(x.sum()))"
      ]
    },
    {
      "cell_type": "code",
      "execution_count": null,
      "metadata": {
        "id": "AsI679nx3WSG",
        "outputId": "d9e300ed-19f4-40d8-ea50-c3377efc7f43"
      },
      "outputs": [
        {
          "data": {
            "text/plain": [
              "loan_status  grade\n",
              "Charged Off  A        5.14\n",
              "             B       20.23\n",
              "             C       34.40\n",
              "             D       22.16\n",
              "             E       11.23\n",
              "             F        4.85\n",
              "             G        1.98\n",
              "Fully Paid   A       20.25\n",
              "             B       31.52\n",
              "             C       29.27\n",
              "             D       12.46\n",
              "             E        4.59\n",
              "             F        1.40\n",
              "             G        0.50\n",
              "dtype: float64"
            ]
          },
          "execution_count": 334,
          "metadata": {},
          "output_type": "execute_result"
        }
      ],
      "source": [
        "perc_"
      ]
    },
    {
      "cell_type": "markdown",
      "metadata": {
        "id": "M7ojuEbb3WSG"
      },
      "source": [
        "# Profit Perspective "
      ]
    },
    {
      "cell_type": "markdown",
      "metadata": {
        "id": "0y4eEleF3WSG"
      },
      "source": [
        "We generated Profit by multiplying 'term' and 'installment' and deducted 'loan_amnt' to find out the which loaner will give us higher profit .\n",
        "We compared this profit by differet aspectives"
      ]
    },
    {
      "cell_type": "code",
      "execution_count": null,
      "metadata": {
        "id": "1vUom9tC3WSG"
      },
      "outputs": [],
      "source": [
        "# First, we need to preprocess with term to get rid of strings\n",
        "df_clean['term2']=df_clean['term'].str[0:3].astype(float)"
      ]
    },
    {
      "cell_type": "code",
      "execution_count": null,
      "metadata": {
        "id": "vigMBR3K3WSG",
        "outputId": "4576df9a-ad7a-477e-d05f-d21077d38d0f"
      },
      "outputs": [
        {
          "data": {
            "text/plain": [
              "421101   36.00\n",
              "421113   36.00\n",
              "421120   36.00\n",
              "421135   36.00\n",
              "421137   60.00\n",
              "Name: term2, dtype: float64"
            ]
          },
          "execution_count": 336,
          "metadata": {},
          "output_type": "execute_result"
        }
      ],
      "source": [
        "df_clean['term2'].head()"
      ]
    },
    {
      "cell_type": "code",
      "execution_count": null,
      "metadata": {
        "id": "LBxhwF3e3WSG"
      },
      "outputs": [],
      "source": [
        "# profit generation"
      ]
    },
    {
      "cell_type": "code",
      "execution_count": null,
      "metadata": {
        "id": "oMGX1V4A3WSH"
      },
      "outputs": [],
      "source": [
        "df_clean['profit']=(df_clean['installment']*df_clean['term2']) -df_clean['loan_amnt']"
      ]
    },
    {
      "cell_type": "code",
      "execution_count": null,
      "metadata": {
        "id": "2AG8rQmu3WSH"
      },
      "outputs": [],
      "source": [
        "#example "
      ]
    },
    {
      "cell_type": "code",
      "execution_count": null,
      "metadata": {
        "id": "XL3uMVz93WSH",
        "outputId": "a15dc3a0-efd3-40a8-d563-e16b80ee6f19"
      },
      "outputs": [
        {
          "data": {
            "text/html": [
              "<div>\n",
              "<style scoped>\n",
              "    .dataframe tbody tr th:only-of-type {\n",
              "        vertical-align: middle;\n",
              "    }\n",
              "\n",
              "    .dataframe tbody tr th {\n",
              "        vertical-align: top;\n",
              "    }\n",
              "\n",
              "    .dataframe thead th {\n",
              "        text-align: right;\n",
              "    }\n",
              "</style>\n",
              "<table border=\"1\" class=\"dataframe\">\n",
              "  <thead>\n",
              "    <tr style=\"text-align: right;\">\n",
              "      <th></th>\n",
              "      <th>loan_amnt</th>\n",
              "      <th>term</th>\n",
              "      <th>int_rate</th>\n",
              "      <th>installment</th>\n",
              "      <th>grade</th>\n",
              "      <th>sub_grade</th>\n",
              "      <th>profit</th>\n",
              "    </tr>\n",
              "  </thead>\n",
              "  <tbody>\n",
              "    <tr>\n",
              "      <th>421101</th>\n",
              "      <td>3000.00</td>\n",
              "      <td>36 months</td>\n",
              "      <td>7.34</td>\n",
              "      <td>93.10</td>\n",
              "      <td>A</td>\n",
              "      <td>A4</td>\n",
              "      <td>351.60</td>\n",
              "    </tr>\n",
              "    <tr>\n",
              "      <th>421113</th>\n",
              "      <td>5000.00</td>\n",
              "      <td>36 months</td>\n",
              "      <td>11.98</td>\n",
              "      <td>166.03</td>\n",
              "      <td>B</td>\n",
              "      <td>B5</td>\n",
              "      <td>977.08</td>\n",
              "    </tr>\n",
              "    <tr>\n",
              "      <th>421120</th>\n",
              "      <td>7000.00</td>\n",
              "      <td>36 months</td>\n",
              "      <td>11.98</td>\n",
              "      <td>232.44</td>\n",
              "      <td>B</td>\n",
              "      <td>B5</td>\n",
              "      <td>1367.84</td>\n",
              "    </tr>\n",
              "    <tr>\n",
              "      <th>421135</th>\n",
              "      <td>30000.00</td>\n",
              "      <td>36 months</td>\n",
              "      <td>21.85</td>\n",
              "      <td>1143.39</td>\n",
              "      <td>D</td>\n",
              "      <td>D5</td>\n",
              "      <td>11162.04</td>\n",
              "    </tr>\n",
              "    <tr>\n",
              "      <th>421137</th>\n",
              "      <td>21000.00</td>\n",
              "      <td>60 months</td>\n",
              "      <td>20.39</td>\n",
              "      <td>560.94</td>\n",
              "      <td>D</td>\n",
              "      <td>D4</td>\n",
              "      <td>12656.40</td>\n",
              "    </tr>\n",
              "    <tr>\n",
              "      <th>...</th>\n",
              "      <td>...</td>\n",
              "      <td>...</td>\n",
              "      <td>...</td>\n",
              "      <td>...</td>\n",
              "      <td>...</td>\n",
              "      <td>...</td>\n",
              "      <td>...</td>\n",
              "    </tr>\n",
              "    <tr>\n",
              "      <th>2260688</th>\n",
              "      <td>18000.00</td>\n",
              "      <td>60 months</td>\n",
              "      <td>9.49</td>\n",
              "      <td>377.95</td>\n",
              "      <td>B</td>\n",
              "      <td>B2</td>\n",
              "      <td>4677.00</td>\n",
              "    </tr>\n",
              "    <tr>\n",
              "      <th>2260690</th>\n",
              "      <td>29400.00</td>\n",
              "      <td>60 months</td>\n",
              "      <td>13.99</td>\n",
              "      <td>683.94</td>\n",
              "      <td>C</td>\n",
              "      <td>C3</td>\n",
              "      <td>11636.40</td>\n",
              "    </tr>\n",
              "    <tr>\n",
              "      <th>2260691</th>\n",
              "      <td>32000.00</td>\n",
              "      <td>60 months</td>\n",
              "      <td>14.49</td>\n",
              "      <td>752.74</td>\n",
              "      <td>C</td>\n",
              "      <td>C4</td>\n",
              "      <td>13164.40</td>\n",
              "    </tr>\n",
              "    <tr>\n",
              "      <th>2260692</th>\n",
              "      <td>16000.00</td>\n",
              "      <td>60 months</td>\n",
              "      <td>12.79</td>\n",
              "      <td>362.34</td>\n",
              "      <td>C</td>\n",
              "      <td>C1</td>\n",
              "      <td>5740.40</td>\n",
              "    </tr>\n",
              "    <tr>\n",
              "      <th>2260697</th>\n",
              "      <td>24000.00</td>\n",
              "      <td>60 months</td>\n",
              "      <td>14.49</td>\n",
              "      <td>564.56</td>\n",
              "      <td>C</td>\n",
              "      <td>C4</td>\n",
              "      <td>9873.60</td>\n",
              "    </tr>\n",
              "  </tbody>\n",
              "</table>\n",
              "<p>490309 rows × 7 columns</p>\n",
              "</div>"
            ],
            "text/plain": [
              "         loan_amnt        term  int_rate  installment grade sub_grade   profit\n",
              "421101     3000.00   36 months      7.34        93.10     A        A4   351.60\n",
              "421113     5000.00   36 months     11.98       166.03     B        B5   977.08\n",
              "421120     7000.00   36 months     11.98       232.44     B        B5  1367.84\n",
              "421135    30000.00   36 months     21.85      1143.39     D        D5 11162.04\n",
              "421137    21000.00   60 months     20.39       560.94     D        D4 12656.40\n",
              "...            ...         ...       ...          ...   ...       ...      ...\n",
              "2260688   18000.00   60 months      9.49       377.95     B        B2  4677.00\n",
              "2260690   29400.00   60 months     13.99       683.94     C        C3 11636.40\n",
              "2260691   32000.00   60 months     14.49       752.74     C        C4 13164.40\n",
              "2260692   16000.00   60 months     12.79       362.34     C        C1  5740.40\n",
              "2260697   24000.00   60 months     14.49       564.56     C        C4  9873.60\n",
              "\n",
              "[490309 rows x 7 columns]"
            ]
          },
          "execution_count": 340,
          "metadata": {},
          "output_type": "execute_result"
        }
      ],
      "source": [
        "df_clean[['loan_amnt','term','int_rate','installment','grade','sub_grade','profit']]"
      ]
    },
    {
      "cell_type": "code",
      "execution_count": null,
      "metadata": {
        "id": "uZF5tday3WSH"
      },
      "outputs": [],
      "source": [
        "#comparasion"
      ]
    },
    {
      "cell_type": "code",
      "execution_count": null,
      "metadata": {
        "id": "8K8EMXHe3WSH",
        "outputId": "36984030-bb0a-453d-f4e9-07024a260084"
      },
      "outputs": [
        {
          "data": {
            "text/html": [
              "<div>\n",
              "<style scoped>\n",
              "    .dataframe tbody tr th:only-of-type {\n",
              "        vertical-align: middle;\n",
              "    }\n",
              "\n",
              "    .dataframe tbody tr th {\n",
              "        vertical-align: top;\n",
              "    }\n",
              "\n",
              "    .dataframe thead th {\n",
              "        text-align: right;\n",
              "    }\n",
              "</style>\n",
              "<table border=\"1\" class=\"dataframe\">\n",
              "  <thead>\n",
              "    <tr style=\"text-align: right;\">\n",
              "      <th></th>\n",
              "      <th>loan_amnt</th>\n",
              "      <th>term</th>\n",
              "      <th>int_rate</th>\n",
              "      <th>installment</th>\n",
              "      <th>grade</th>\n",
              "      <th>sub_grade</th>\n",
              "      <th>profit</th>\n",
              "    </tr>\n",
              "  </thead>\n",
              "  <tbody>\n",
              "    <tr>\n",
              "      <th>437500</th>\n",
              "      <td>40000.00</td>\n",
              "      <td>60 months</td>\n",
              "      <td>20.39</td>\n",
              "      <td>1068.46</td>\n",
              "      <td>D</td>\n",
              "      <td>D4</td>\n",
              "      <td>24107.60</td>\n",
              "    </tr>\n",
              "    <tr>\n",
              "      <th>486712</th>\n",
              "      <td>40000.00</td>\n",
              "      <td>36 months</td>\n",
              "      <td>20.00</td>\n",
              "      <td>1486.55</td>\n",
              "      <td>D</td>\n",
              "      <td>D4</td>\n",
              "      <td>13515.80</td>\n",
              "    </tr>\n",
              "    <tr>\n",
              "      <th>501749</th>\n",
              "      <td>40000.00</td>\n",
              "      <td>60 months</td>\n",
              "      <td>20.00</td>\n",
              "      <td>1059.76</td>\n",
              "      <td>D</td>\n",
              "      <td>D4</td>\n",
              "      <td>23585.60</td>\n",
              "    </tr>\n",
              "    <tr>\n",
              "      <th>530683</th>\n",
              "      <td>40000.00</td>\n",
              "      <td>36 months</td>\n",
              "      <td>20.00</td>\n",
              "      <td>1486.55</td>\n",
              "      <td>D</td>\n",
              "      <td>D4</td>\n",
              "      <td>13515.80</td>\n",
              "    </tr>\n",
              "    <tr>\n",
              "      <th>538519</th>\n",
              "      <td>40000.00</td>\n",
              "      <td>60 months</td>\n",
              "      <td>20.00</td>\n",
              "      <td>1059.76</td>\n",
              "      <td>D</td>\n",
              "      <td>D4</td>\n",
              "      <td>23585.60</td>\n",
              "    </tr>\n",
              "    <tr>\n",
              "      <th>...</th>\n",
              "      <td>...</td>\n",
              "      <td>...</td>\n",
              "      <td>...</td>\n",
              "      <td>...</td>\n",
              "      <td>...</td>\n",
              "      <td>...</td>\n",
              "      <td>...</td>\n",
              "    </tr>\n",
              "    <tr>\n",
              "      <th>2161533</th>\n",
              "      <td>40000.00</td>\n",
              "      <td>60 months</td>\n",
              "      <td>19.99</td>\n",
              "      <td>1059.54</td>\n",
              "      <td>D</td>\n",
              "      <td>D4</td>\n",
              "      <td>23572.40</td>\n",
              "    </tr>\n",
              "    <tr>\n",
              "      <th>2174763</th>\n",
              "      <td>40000.00</td>\n",
              "      <td>36 months</td>\n",
              "      <td>19.99</td>\n",
              "      <td>1486.34</td>\n",
              "      <td>D</td>\n",
              "      <td>D4</td>\n",
              "      <td>13508.24</td>\n",
              "    </tr>\n",
              "    <tr>\n",
              "      <th>2194912</th>\n",
              "      <td>40000.00</td>\n",
              "      <td>60 months</td>\n",
              "      <td>19.99</td>\n",
              "      <td>1059.54</td>\n",
              "      <td>D</td>\n",
              "      <td>D4</td>\n",
              "      <td>23572.40</td>\n",
              "    </tr>\n",
              "    <tr>\n",
              "      <th>2233122</th>\n",
              "      <td>40000.00</td>\n",
              "      <td>60 months</td>\n",
              "      <td>19.99</td>\n",
              "      <td>1059.54</td>\n",
              "      <td>D</td>\n",
              "      <td>D4</td>\n",
              "      <td>23572.40</td>\n",
              "    </tr>\n",
              "    <tr>\n",
              "      <th>2260524</th>\n",
              "      <td>40000.00</td>\n",
              "      <td>60 months</td>\n",
              "      <td>19.99</td>\n",
              "      <td>1059.54</td>\n",
              "      <td>D</td>\n",
              "      <td>D4</td>\n",
              "      <td>23572.40</td>\n",
              "    </tr>\n",
              "  </tbody>\n",
              "</table>\n",
              "<p>64 rows × 7 columns</p>\n",
              "</div>"
            ],
            "text/plain": [
              "         loan_amnt        term  int_rate  installment grade sub_grade   profit\n",
              "437500    40000.00   60 months     20.39      1068.46     D        D4 24107.60\n",
              "486712    40000.00   36 months     20.00      1486.55     D        D4 13515.80\n",
              "501749    40000.00   60 months     20.00      1059.76     D        D4 23585.60\n",
              "530683    40000.00   36 months     20.00      1486.55     D        D4 13515.80\n",
              "538519    40000.00   60 months     20.00      1059.76     D        D4 23585.60\n",
              "...            ...         ...       ...          ...   ...       ...      ...\n",
              "2161533   40000.00   60 months     19.99      1059.54     D        D4 23572.40\n",
              "2174763   40000.00   36 months     19.99      1486.34     D        D4 13508.24\n",
              "2194912   40000.00   60 months     19.99      1059.54     D        D4 23572.40\n",
              "2233122   40000.00   60 months     19.99      1059.54     D        D4 23572.40\n",
              "2260524   40000.00   60 months     19.99      1059.54     D        D4 23572.40\n",
              "\n",
              "[64 rows x 7 columns]"
            ]
          },
          "execution_count": 341,
          "metadata": {},
          "output_type": "execute_result"
        }
      ],
      "source": [
        "df_clean[(df_clean['sub_grade']=='D4')&(df_clean['loan_amnt']==40000)][['loan_amnt','term','int_rate','installment','grade','sub_grade','profit']]"
      ]
    },
    {
      "cell_type": "code",
      "execution_count": null,
      "metadata": {
        "id": "bvluD3U83WSI",
        "outputId": "2b96e7f7-dc46-4948-b103-c78c2c08d578"
      },
      "outputs": [
        {
          "data": {
            "text/html": [
              "<div>\n",
              "<style scoped>\n",
              "    .dataframe tbody tr th:only-of-type {\n",
              "        vertical-align: middle;\n",
              "    }\n",
              "\n",
              "    .dataframe tbody tr th {\n",
              "        vertical-align: top;\n",
              "    }\n",
              "\n",
              "    .dataframe thead th {\n",
              "        text-align: right;\n",
              "    }\n",
              "</style>\n",
              "<table border=\"1\" class=\"dataframe\">\n",
              "  <thead>\n",
              "    <tr style=\"text-align: right;\">\n",
              "      <th></th>\n",
              "      <th>loan_amnt</th>\n",
              "      <th>term</th>\n",
              "      <th>int_rate</th>\n",
              "      <th>installment</th>\n",
              "      <th>grade</th>\n",
              "      <th>sub_grade</th>\n",
              "      <th>profit</th>\n",
              "    </tr>\n",
              "  </thead>\n",
              "  <tbody>\n",
              "    <tr>\n",
              "      <th>422352</th>\n",
              "      <td>40000.00</td>\n",
              "      <td>36 months</td>\n",
              "      <td>5.31</td>\n",
              "      <td>1204.42</td>\n",
              "      <td>A</td>\n",
              "      <td>A1</td>\n",
              "      <td>3359.12</td>\n",
              "    </tr>\n",
              "    <tr>\n",
              "      <th>423168</th>\n",
              "      <td>40000.00</td>\n",
              "      <td>36 months</td>\n",
              "      <td>5.31</td>\n",
              "      <td>1204.42</td>\n",
              "      <td>A</td>\n",
              "      <td>A1</td>\n",
              "      <td>3359.12</td>\n",
              "    </tr>\n",
              "    <tr>\n",
              "      <th>424998</th>\n",
              "      <td>40000.00</td>\n",
              "      <td>36 months</td>\n",
              "      <td>5.31</td>\n",
              "      <td>1204.42</td>\n",
              "      <td>A</td>\n",
              "      <td>A1</td>\n",
              "      <td>3359.12</td>\n",
              "    </tr>\n",
              "    <tr>\n",
              "      <th>425678</th>\n",
              "      <td>40000.00</td>\n",
              "      <td>36 months</td>\n",
              "      <td>5.31</td>\n",
              "      <td>1204.42</td>\n",
              "      <td>A</td>\n",
              "      <td>A1</td>\n",
              "      <td>3359.12</td>\n",
              "    </tr>\n",
              "    <tr>\n",
              "      <th>429574</th>\n",
              "      <td>40000.00</td>\n",
              "      <td>36 months</td>\n",
              "      <td>5.31</td>\n",
              "      <td>1204.42</td>\n",
              "      <td>A</td>\n",
              "      <td>A1</td>\n",
              "      <td>3359.12</td>\n",
              "    </tr>\n",
              "    <tr>\n",
              "      <th>...</th>\n",
              "      <td>...</td>\n",
              "      <td>...</td>\n",
              "      <td>...</td>\n",
              "      <td>...</td>\n",
              "      <td>...</td>\n",
              "      <td>...</td>\n",
              "      <td>...</td>\n",
              "    </tr>\n",
              "    <tr>\n",
              "      <th>2217733</th>\n",
              "      <td>40000.00</td>\n",
              "      <td>36 months</td>\n",
              "      <td>5.32</td>\n",
              "      <td>1204.60</td>\n",
              "      <td>A</td>\n",
              "      <td>A1</td>\n",
              "      <td>3365.60</td>\n",
              "    </tr>\n",
              "    <tr>\n",
              "      <th>2240308</th>\n",
              "      <td>40000.00</td>\n",
              "      <td>36 months</td>\n",
              "      <td>5.32</td>\n",
              "      <td>1204.60</td>\n",
              "      <td>A</td>\n",
              "      <td>A1</td>\n",
              "      <td>3365.60</td>\n",
              "    </tr>\n",
              "    <tr>\n",
              "      <th>2242965</th>\n",
              "      <td>40000.00</td>\n",
              "      <td>36 months</td>\n",
              "      <td>5.32</td>\n",
              "      <td>1204.60</td>\n",
              "      <td>A</td>\n",
              "      <td>A1</td>\n",
              "      <td>3365.60</td>\n",
              "    </tr>\n",
              "    <tr>\n",
              "      <th>2244830</th>\n",
              "      <td>40000.00</td>\n",
              "      <td>36 months</td>\n",
              "      <td>5.32</td>\n",
              "      <td>1204.60</td>\n",
              "      <td>A</td>\n",
              "      <td>A1</td>\n",
              "      <td>3365.60</td>\n",
              "    </tr>\n",
              "    <tr>\n",
              "      <th>2245397</th>\n",
              "      <td>40000.00</td>\n",
              "      <td>36 months</td>\n",
              "      <td>5.32</td>\n",
              "      <td>1204.60</td>\n",
              "      <td>A</td>\n",
              "      <td>A1</td>\n",
              "      <td>3365.60</td>\n",
              "    </tr>\n",
              "  </tbody>\n",
              "</table>\n",
              "<p>394 rows × 7 columns</p>\n",
              "</div>"
            ],
            "text/plain": [
              "         loan_amnt        term  int_rate  installment grade sub_grade  profit\n",
              "422352    40000.00   36 months      5.31      1204.42     A        A1 3359.12\n",
              "423168    40000.00   36 months      5.31      1204.42     A        A1 3359.12\n",
              "424998    40000.00   36 months      5.31      1204.42     A        A1 3359.12\n",
              "425678    40000.00   36 months      5.31      1204.42     A        A1 3359.12\n",
              "429574    40000.00   36 months      5.31      1204.42     A        A1 3359.12\n",
              "...            ...         ...       ...          ...   ...       ...     ...\n",
              "2217733   40000.00   36 months      5.32      1204.60     A        A1 3365.60\n",
              "2240308   40000.00   36 months      5.32      1204.60     A        A1 3365.60\n",
              "2242965   40000.00   36 months      5.32      1204.60     A        A1 3365.60\n",
              "2244830   40000.00   36 months      5.32      1204.60     A        A1 3365.60\n",
              "2245397   40000.00   36 months      5.32      1204.60     A        A1 3365.60\n",
              "\n",
              "[394 rows x 7 columns]"
            ]
          },
          "execution_count": 342,
          "metadata": {},
          "output_type": "execute_result"
        }
      ],
      "source": [
        "df_clean[(df_clean['sub_grade']=='A1')&(df_clean['loan_amnt']==40000)][['loan_amnt','term','int_rate','installment','grade','sub_grade','profit']]"
      ]
    },
    {
      "cell_type": "code",
      "execution_count": null,
      "metadata": {
        "id": "Ij2Opij53WSI",
        "outputId": "df5ed68c-d0fb-4dd6-8b5a-07fee5b051bc"
      },
      "outputs": [
        {
          "data": {
            "text/plain": [
              "Charged Off   6039.82\n",
              "Fully Paid    3867.21\n",
              "dtype: float64"
            ]
          },
          "execution_count": 304,
          "metadata": {},
          "output_type": "execute_result"
        }
      ],
      "source": [
        "# average profit by type \n",
        "df_clean.groupby('loan_status')['margin'].sum()/df_clean['loan_status'].value_counts()"
      ]
    },
    {
      "cell_type": "markdown",
      "metadata": {
        "id": "4Ogpz3He3WSI"
      },
      "source": [
        "#  Profit by Grade Total "
      ]
    },
    {
      "cell_type": "code",
      "execution_count": null,
      "metadata": {
        "id": "aHv5hxKp3WSI",
        "outputId": "ad0ad949-4df5-4983-b452-843bb5e4f113"
      },
      "outputs": [
        {
          "data": {
            "image/png": "[encoded data removed]",
            "text/plain": [
              "<Figure size 864x504 with 1 Axes>"
            ]
          },
          "metadata": {
            "needs_background": "light"
          },
          "output_type": "display_data"
        }
      ],
      "source": [
        "profit.plot(x=\"grade\", y=[\"margin\"], kind=\"bar\",figsize=(12,7))\n",
        "plt.xlabel('Grade')\n",
        "plt.ylabel('Profit')\n",
        "plt.title('Profit by Grade(Total)')\n",
        "plt.show()"
      ]
    },
    {
      "cell_type": "markdown",
      "metadata": {
        "id": "AkSSf7iJ3WSI"
      },
      "source": [
        "#  Profit by Grade Charged off "
      ]
    },
    {
      "cell_type": "code",
      "execution_count": null,
      "metadata": {
        "id": "bfBpmzeE3WSI"
      },
      "outputs": [],
      "source": [
        "profit2=df_clean[df_clean['loan_status']=='Charged Off'].groupby('grade')['margin'].sum().reset_index()"
      ]
    },
    {
      "cell_type": "code",
      "execution_count": null,
      "metadata": {
        "id": "cfKSO4643WSJ",
        "outputId": "56cdcb55-7add-4fd1-8b73-d940ff9f6f29"
      },
      "outputs": [
        {
          "data": {
            "image/png": "[encoded data removed]",
            "text/plain": [
              "<Figure size 864x504 with 1 Axes>"
            ]
          },
          "metadata": {
            "needs_background": "light"
          },
          "output_type": "display_data"
        }
      ],
      "source": [
        "profit2.plot(x=\"grade\", y=[\"margin\"], kind=\"bar\",figsize=(12,7),color='orange')\n",
        "plt.xlabel('Grade')\n",
        "plt.ylabel('Profit')\n",
        "plt.title('Profit by Grade(Charged off)')\n",
        "plt.show()"
      ]
    },
    {
      "cell_type": "code",
      "execution_count": null,
      "metadata": {
        "id": "3iT2nwIY3WSJ"
      },
      "outputs": [],
      "source": [
        "profit_full=df_clean[df_clean['loan_status']=='Fully Paid'].groupby('grade')['margin'].sum().reset_index()"
      ]
    },
    {
      "cell_type": "code",
      "execution_count": null,
      "metadata": {
        "id": "luGmdRZI3WSJ",
        "outputId": "e1b08561-0828-45bb-cfaa-39a82ebe63dc"
      },
      "outputs": [
        {
          "data": {
            "text/html": [
              "<div>\n",
              "<style scoped>\n",
              "    .dataframe tbody tr th:only-of-type {\n",
              "        vertical-align: middle;\n",
              "    }\n",
              "\n",
              "    .dataframe tbody tr th {\n",
              "        vertical-align: top;\n",
              "    }\n",
              "\n",
              "    .dataframe thead th {\n",
              "        text-align: right;\n",
              "    }\n",
              "</style>\n",
              "<table border=\"1\" class=\"dataframe\">\n",
              "  <thead>\n",
              "    <tr style=\"text-align: right;\">\n",
              "      <th></th>\n",
              "      <th>grade</th>\n",
              "      <th>margin</th>\n",
              "    </tr>\n",
              "  </thead>\n",
              "  <tbody>\n",
              "    <tr>\n",
              "      <th>0</th>\n",
              "      <td>A</td>\n",
              "      <td>118558711.92</td>\n",
              "    </tr>\n",
              "    <tr>\n",
              "      <th>1</th>\n",
              "      <td>B</td>\n",
              "      <td>297999024.80</td>\n",
              "    </tr>\n",
              "    <tr>\n",
              "      <th>2</th>\n",
              "      <td>C</td>\n",
              "      <td>463710076.48</td>\n",
              "    </tr>\n",
              "    <tr>\n",
              "      <th>3</th>\n",
              "      <td>D</td>\n",
              "      <td>297586349.68</td>\n",
              "    </tr>\n",
              "    <tr>\n",
              "      <th>4</th>\n",
              "      <td>E</td>\n",
              "      <td>177539321.40</td>\n",
              "    </tr>\n",
              "    <tr>\n",
              "      <th>5</th>\n",
              "      <td>F</td>\n",
              "      <td>78473519.40</td>\n",
              "    </tr>\n",
              "    <tr>\n",
              "      <th>6</th>\n",
              "      <td>G</td>\n",
              "      <td>33792839.76</td>\n",
              "    </tr>\n",
              "  </tbody>\n",
              "</table>\n",
              "</div>"
            ],
            "text/plain": [
              "  grade       margin\n",
              "0     A 118558711.92\n",
              "1     B 297999024.80\n",
              "2     C 463710076.48\n",
              "3     D 297586349.68\n",
              "4     E 177539321.40\n",
              "5     F  78473519.40\n",
              "6     G  33792839.76"
            ]
          },
          "execution_count": 312,
          "metadata": {},
          "output_type": "execute_result"
        }
      ],
      "source": [
        "profit_full"
      ]
    },
    {
      "cell_type": "code",
      "execution_count": null,
      "metadata": {
        "id": "fzBKVK113WSJ"
      },
      "outputs": [],
      "source": [
        "#  Profit by Grade Fully Paid "
      ]
    },
    {
      "cell_type": "code",
      "execution_count": null,
      "metadata": {
        "id": "ibstwXg33WSJ",
        "outputId": "f65ceeb5-3604-45a7-b2b1-8b1598ef6dc3"
      },
      "outputs": [
        {
          "data": {
            "image/png": "[encoded data removed]",
            "text/plain": [
              "<Figure size 864x504 with 1 Axes>"
            ]
          },
          "metadata": {
            "needs_background": "light"
          },
          "output_type": "display_data"
        }
      ],
      "source": [
        "profit_full.plot(x=\"grade\", y=[\"margin\"], kind=\"bar\",figsize=(12,7),color='green')\n",
        "plt.xlabel('Grade')\n",
        "plt.ylabel('Profit')\n",
        "plt.title('Profit by Grade(Fully Paid)')\n",
        "plt.show()"
      ]
    }
  ],
  "metadata": {
    "colab": {
      "collapsed_sections": [],
      "machine_shape": "hm",
      "name": "207_final_project_EDA.ipynb",
      "provenance": []
    },
    "kernelspec": {
      "display_name": "Python 3",
      "language": "python",
      "name": "python3"
    },
    "language_info": {
      "codemirror_mode": {
        "name": "ipython",
        "version": 3
      },
      "file_extension": ".py",
      "mimetype": "text/x-python",
      "name": "python",
      "nbconvert_exporter": "python",
      "pygments_lexer": "ipython3",
      "version": "3.8.5"
    }
  },
  "nbformat": 4,
  "nbformat_minor": 0
}