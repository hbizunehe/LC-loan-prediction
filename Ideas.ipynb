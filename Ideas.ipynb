{
 "cells": [
  {
   "cell_type": "markdown",
   "source": [
    "# **Collection of Ideas for Machine Learning Project**"
   ],
   "metadata": {}
  },
  {
   "cell_type": "markdown",
   "source": [
    "## List of interesting problems"
   ],
   "metadata": {}
  },
  {
   "cell_type": "markdown",
   "source": [
    "1. **Netflix - Predict the Genre** - given customers viewing activity, predict the genre of movies that the customer will watch given a time, day & month\n",
    "2. **In-Car Coupon Recommendation** - Which car coupons will the driver of a car accept (Restaurant, Coffee, Carry-Out, Bar) on the console of their car dashboard while driving ?\n",
    "3. **Plant Species** -- Predict the species of the plant, given a dataset of characteristics of the leaves\n",
    "4. **World Happiness Report** -- What factors affect the happiness of a nation ? Given a set of factors, predict the happiness level of the nation.\n",
    "5. **Forest Cover Prediction** -   \n",
    "6. **Click Prediction** - https://www.openml.org/d/1220, https://www.kaggle.com/c/kddcup2012-track1"
   ],
   "metadata": {}
  },
  {
   "cell_type": "code",
   "execution_count": null,
   "source": [],
   "outputs": [],
   "metadata": {}
  },
  {
   "cell_type": "code",
   "execution_count": null,
   "source": [],
   "outputs": [],
   "metadata": {}
  }
 ],
 "metadata": {
  "orig_nbformat": 4,
  "language_info": {
   "name": "python"
  }
 },
 "nbformat": 4,
 "nbformat_minor": 2
}